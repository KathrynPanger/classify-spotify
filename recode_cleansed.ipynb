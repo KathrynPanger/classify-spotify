{
 "metadata": {
  "language_info": {
   "codemirror_mode": {
    "name": "ipython",
    "version": 3
   },
   "file_extension": ".py",
   "mimetype": "text/x-python",
   "name": "python",
   "nbconvert_exporter": "python",
   "pygments_lexer": "ipython3",
   "version": "3.6.10-final"
  },
  "orig_nbformat": 2,
  "kernelspec": {
   "name": "python_defaultSpec_1600203712553",
   "display_name": "Python 3.6.10 64-bit ('PythonDataViz': conda)"
  }
 },
 "nbformat": 4,
 "nbformat_minor": 2,
 "cells": [
  {
   "cell_type": "code",
   "execution_count": 2,
   "metadata": {},
   "outputs": [],
   "source": [
    "import pandas as pd"
   ]
  },
  {
   "cell_type": "code",
   "execution_count": 4,
   "metadata": {},
   "outputs": [],
   "source": [
    "df=pd.read_csv(\"cleansed_df.csv\")"
   ]
  },
  {
   "cell_type": "code",
   "execution_count": 11,
   "metadata": {},
   "outputs": [],
   "source": [
    "genrelist= list(set(df[\"Genre\"].values))\n"
   ]
  },
  {
   "cell_type": "code",
   "execution_count": 18,
   "metadata": {},
   "outputs": [],
   "source": [
    "index=[number for number in range(0,len(genrelist))]"
   ]
  },
  {
   "cell_type": "code",
   "execution_count": 31,
   "metadata": {},
   "outputs": [],
   "source": [
    "ziplist=[]\n",
    "for i in range(0,len(genrelist)):\n",
    "    ziplist.append([genrelist[i],i])"
   ]
  },
  {
   "cell_type": "code",
   "execution_count": 55,
   "metadata": {},
   "outputs": [],
   "source": [
    "list = df[\"Genre\"].values.tolist()"
   ]
  },
  {
   "cell_type": "code",
   "execution_count": 33,
   "metadata": {},
   "outputs": [],
   "source": [
    "zipdict= dict(zip(genrelist, index)) "
   ]
  },
  {
   "cell_type": "code",
   "execution_count": 59,
   "metadata": {
    "tags": []
   },
   "outputs": [],
   "source": [
    "codelist=[]\n",
    "for item in list:\n",
    "    codelist.append(zipdict[item])"
   ]
  },
  {
   "cell_type": "code",
   "execution_count": 61,
   "metadata": {},
   "outputs": [],
   "source": [
    "df[\"code\"]=codelist"
   ]
  },
  {
   "cell_type": "code",
   "execution_count": 62,
   "metadata": {},
   "outputs": [
    {
     "output_type": "execute_result",
     "data": {
      "text/plain": "       Unnamed: 0        Genre                            Track Name  \\\n0               0     acoustic                        Sexual Healing   \n1               1     acoustic  Jar of Hearts (feat. Tiffany Alvord)   \n2               2     acoustic                                Winter   \n3               3     acoustic                              The Girl   \n4               4     acoustic                      Gone, Gone, Gone   \n...           ...          ...                                   ...   \n10811       12293  world-music                               Ahimana   \n10812       12295  world-music                                Birima   \n10813       12296  world-music                         Puppy Puppies   \n10814       12297  world-music                 Un bacio a mezzanotte   \n10815       12299  world-music                          Guantanamera   \n\n                     Track ID  Popularity  Loudness    Tempo  Duration_ms  \\\n0      40kL0rQpgAULbZPHlO4qnS          52   -15.689  164.287       323000   \n1      2XRlFYDk8WKDVXAn0HPoHq           0    -9.057   74.985       246133   \n2      4VuHWU01C36BUaN1adNi5M          52   -15.255  170.275       203773   \n3      2KHFNeIuubGY26Rkx0vYL0           0    -7.591   77.001       362107   \n4      20S0KRq4z2v2Utym0C246s          45    -5.961  118.002       209693   \n...                       ...         ...       ...      ...          ...   \n10811  47XSVYODb5Cx39P5SnF48T           0    -5.876  135.668       298627   \n10812  2pJKh0H5YG0ESWMytQdUQ3          26    -8.952  105.764       227933   \n10813  0RqO51HOHXh3V0gWLHOtWb          14   -20.277  120.016       552000   \n10814  4PBZbyfWOExz4y5y8JadvM          27   -14.570   93.859       139827   \n10815  1sCkOKd7l2kXdabiz3u3oa           0   -17.829  105.538       245227   \n\n       Energy  Key  Instrumentalness  Speechiness  Valence  Danceability  code  \n0       0.240   10          0.000000       0.1050   0.4970         0.445    45  \n1       0.253    5          0.000000       0.0326   0.2110         0.572    45  \n2       0.214    4          0.000362       0.0366   0.4040         0.258    45  \n3       0.541   10          0.000044       0.0432   0.1750         0.310    45  \n4       0.642    6          0.000000       0.0380   0.5010         0.664    45  \n...       ...  ...               ...          ...      ...           ...   ...  \n10811   0.540    0          0.134000       0.0369   0.3160         0.442   100  \n10812   0.685   10          0.035200       0.0526   0.7650         0.689   100  \n10813   0.050    1          0.862000       0.0484   0.0741         0.357   100  \n10814   0.213    9          0.000000       0.1210   0.8100         0.816   100  \n10815   0.156    5          0.251000       0.0426   0.5650         0.674   100  \n\n[10816 rows x 15 columns]",
      "text/html": "<div>\n<style scoped>\n    .dataframe tbody tr th:only-of-type {\n        vertical-align: middle;\n    }\n\n    .dataframe tbody tr th {\n        vertical-align: top;\n    }\n\n    .dataframe thead th {\n        text-align: right;\n    }\n</style>\n<table border=\"1\" class=\"dataframe\">\n  <thead>\n    <tr style=\"text-align: right;\">\n      <th></th>\n      <th>Unnamed: 0</th>\n      <th>Genre</th>\n      <th>Track Name</th>\n      <th>Track ID</th>\n      <th>Popularity</th>\n      <th>Loudness</th>\n      <th>Tempo</th>\n      <th>Duration_ms</th>\n      <th>Energy</th>\n      <th>Key</th>\n      <th>Instrumentalness</th>\n      <th>Speechiness</th>\n      <th>Valence</th>\n      <th>Danceability</th>\n      <th>code</th>\n    </tr>\n  </thead>\n  <tbody>\n    <tr>\n      <th>0</th>\n      <td>0</td>\n      <td>acoustic</td>\n      <td>Sexual Healing</td>\n      <td>40kL0rQpgAULbZPHlO4qnS</td>\n      <td>52</td>\n      <td>-15.689</td>\n      <td>164.287</td>\n      <td>323000</td>\n      <td>0.240</td>\n      <td>10</td>\n      <td>0.000000</td>\n      <td>0.1050</td>\n      <td>0.4970</td>\n      <td>0.445</td>\n      <td>45</td>\n    </tr>\n    <tr>\n      <th>1</th>\n      <td>1</td>\n      <td>acoustic</td>\n      <td>Jar of Hearts (feat. Tiffany Alvord)</td>\n      <td>2XRlFYDk8WKDVXAn0HPoHq</td>\n      <td>0</td>\n      <td>-9.057</td>\n      <td>74.985</td>\n      <td>246133</td>\n      <td>0.253</td>\n      <td>5</td>\n      <td>0.000000</td>\n      <td>0.0326</td>\n      <td>0.2110</td>\n      <td>0.572</td>\n      <td>45</td>\n    </tr>\n    <tr>\n      <th>2</th>\n      <td>2</td>\n      <td>acoustic</td>\n      <td>Winter</td>\n      <td>4VuHWU01C36BUaN1adNi5M</td>\n      <td>52</td>\n      <td>-15.255</td>\n      <td>170.275</td>\n      <td>203773</td>\n      <td>0.214</td>\n      <td>4</td>\n      <td>0.000362</td>\n      <td>0.0366</td>\n      <td>0.4040</td>\n      <td>0.258</td>\n      <td>45</td>\n    </tr>\n    <tr>\n      <th>3</th>\n      <td>3</td>\n      <td>acoustic</td>\n      <td>The Girl</td>\n      <td>2KHFNeIuubGY26Rkx0vYL0</td>\n      <td>0</td>\n      <td>-7.591</td>\n      <td>77.001</td>\n      <td>362107</td>\n      <td>0.541</td>\n      <td>10</td>\n      <td>0.000044</td>\n      <td>0.0432</td>\n      <td>0.1750</td>\n      <td>0.310</td>\n      <td>45</td>\n    </tr>\n    <tr>\n      <th>4</th>\n      <td>4</td>\n      <td>acoustic</td>\n      <td>Gone, Gone, Gone</td>\n      <td>20S0KRq4z2v2Utym0C246s</td>\n      <td>45</td>\n      <td>-5.961</td>\n      <td>118.002</td>\n      <td>209693</td>\n      <td>0.642</td>\n      <td>6</td>\n      <td>0.000000</td>\n      <td>0.0380</td>\n      <td>0.5010</td>\n      <td>0.664</td>\n      <td>45</td>\n    </tr>\n    <tr>\n      <th>...</th>\n      <td>...</td>\n      <td>...</td>\n      <td>...</td>\n      <td>...</td>\n      <td>...</td>\n      <td>...</td>\n      <td>...</td>\n      <td>...</td>\n      <td>...</td>\n      <td>...</td>\n      <td>...</td>\n      <td>...</td>\n      <td>...</td>\n      <td>...</td>\n      <td>...</td>\n    </tr>\n    <tr>\n      <th>10811</th>\n      <td>12293</td>\n      <td>world-music</td>\n      <td>Ahimana</td>\n      <td>47XSVYODb5Cx39P5SnF48T</td>\n      <td>0</td>\n      <td>-5.876</td>\n      <td>135.668</td>\n      <td>298627</td>\n      <td>0.540</td>\n      <td>0</td>\n      <td>0.134000</td>\n      <td>0.0369</td>\n      <td>0.3160</td>\n      <td>0.442</td>\n      <td>100</td>\n    </tr>\n    <tr>\n      <th>10812</th>\n      <td>12295</td>\n      <td>world-music</td>\n      <td>Birima</td>\n      <td>2pJKh0H5YG0ESWMytQdUQ3</td>\n      <td>26</td>\n      <td>-8.952</td>\n      <td>105.764</td>\n      <td>227933</td>\n      <td>0.685</td>\n      <td>10</td>\n      <td>0.035200</td>\n      <td>0.0526</td>\n      <td>0.7650</td>\n      <td>0.689</td>\n      <td>100</td>\n    </tr>\n    <tr>\n      <th>10813</th>\n      <td>12296</td>\n      <td>world-music</td>\n      <td>Puppy Puppies</td>\n      <td>0RqO51HOHXh3V0gWLHOtWb</td>\n      <td>14</td>\n      <td>-20.277</td>\n      <td>120.016</td>\n      <td>552000</td>\n      <td>0.050</td>\n      <td>1</td>\n      <td>0.862000</td>\n      <td>0.0484</td>\n      <td>0.0741</td>\n      <td>0.357</td>\n      <td>100</td>\n    </tr>\n    <tr>\n      <th>10814</th>\n      <td>12297</td>\n      <td>world-music</td>\n      <td>Un bacio a mezzanotte</td>\n      <td>4PBZbyfWOExz4y5y8JadvM</td>\n      <td>27</td>\n      <td>-14.570</td>\n      <td>93.859</td>\n      <td>139827</td>\n      <td>0.213</td>\n      <td>9</td>\n      <td>0.000000</td>\n      <td>0.1210</td>\n      <td>0.8100</td>\n      <td>0.816</td>\n      <td>100</td>\n    </tr>\n    <tr>\n      <th>10815</th>\n      <td>12299</td>\n      <td>world-music</td>\n      <td>Guantanamera</td>\n      <td>1sCkOKd7l2kXdabiz3u3oa</td>\n      <td>0</td>\n      <td>-17.829</td>\n      <td>105.538</td>\n      <td>245227</td>\n      <td>0.156</td>\n      <td>5</td>\n      <td>0.251000</td>\n      <td>0.0426</td>\n      <td>0.5650</td>\n      <td>0.674</td>\n      <td>100</td>\n    </tr>\n  </tbody>\n</table>\n<p>10816 rows × 15 columns</p>\n</div>"
     },
     "metadata": {},
     "execution_count": 62
    }
   ],
   "source": [
    "df"
   ]
  },
  {
   "cell_type": "code",
   "execution_count": null,
   "metadata": {},
   "outputs": [],
   "source": []
  }
 ]
}