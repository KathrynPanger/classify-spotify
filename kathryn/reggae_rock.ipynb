{
 "cells": [
  {
   "cell_type": "code",
   "execution_count": 7,
   "metadata": {
    "tags": []
   },
   "outputs": [],
   "source": [
    "from spotipy.oauth2 import SpotifyClientCredentials\n",
    "import matplotlib.pyplot as plt\n",
    "import pandas as pd\n",
    "import requests\n",
    "import spotipy \n",
    "from spotipy.oauth2 import SpotifyClientCredentials\n",
    "import pandas as pd\n",
    "import requests\n",
    "import json\n",
    "import numpy as np"
   ]
  },
  {
   "cell_type": "code",
   "execution_count": 8,
   "metadata": {},
   "outputs": [],
   "source": [
    "cid=\"08267e6d9cb548b181e3feb69f0b85f3\"\n",
    "secret=\"820f4a06613e4722a7fdf106fb4f113b\"\n",
    "client_credentials_manager = SpotifyClientCredentials(client_id=cid, client_secret=secret)\n",
    "sp = spotipy.Spotify(client_credentials_manager=client_credentials_manager)"
   ]
  },
  {
   "cell_type": "code",
   "execution_count": 9,
   "metadata": {},
   "outputs": [],
   "source": [
    "randoms_reggae = sp.recommendations(seed_genres=[\"reggae\", \"rock\"], limit=100)\n",
    "randoms_rock = sp.recommendations(seed_genres=[\"rock\"], limit=100)"
   ]
  },
  {
   "cell_type": "code",
   "execution_count": 14,
   "metadata": {
    "tags": []
   },
   "outputs": [],
   "source": [
    "tracks_preview = []\n",
    "tracks_id = []\n",
    "tracks_name = []\n",
    "tracks_artist = []\n",
    "tracks_album = []\n",
    "genre_name=[]\n",
    "\n",
    "for album_ind in range(0, 100):\n",
    "    tracks_preview.append(randoms_rock['tracks'][album_ind]['preview_url'])\n",
    "    tracks_id.append(randoms_rock['tracks'][album_ind]['id'])\n",
    "    tracks_name.append(randoms_rock['tracks'][album_ind]['name'])\n",
    "    tracks_artist.append(randoms_rock['tracks'][album_ind]['artists'])\n",
    "    genre_name.append(\"rock\")\n",
    "\n",
    "for album_ind in range(0, 100):\n",
    "    tracks_preview.append(randoms_reggae['tracks'][album_ind]['preview_url'])\n",
    "    tracks_id.append(randoms_reggae['tracks'][album_ind]['id'])\n",
    "    tracks_name.append(randoms_reggae['tracks'][album_ind]['name'])\n",
    "    tracks_artist.append(randoms_reggae['tracks'][album_ind]['artists'])\n",
    "    genre_name.append(\"reggae\")\n"
   ]
  },
  {
   "cell_type": "code",
   "execution_count": 15,
   "metadata": {},
   "outputs": [],
   "source": [
    "tracks_data = {'Track_ID':tracks_id, \n",
    "               'Track_Name':tracks_name, \n",
    "               'Track_Artist':tracks_artist, \n",
    "               'Preview_URL':tracks_preview,\n",
    "               \"Genre\": genre_name}\n",
    "\n",
    "\n",
    "tracks_df = pd.DataFrame(tracks_data)\n",
    "\n",
    "tracks_df = tracks_df[tracks_df.Preview_URL != 'None']"
   ]
  },
  {
   "cell_type": "code",
   "execution_count": 23,
   "metadata": {
    "tags": []
   },
   "outputs": [
    {
     "output_type": "stream",
     "name": "stdout",
     "text": "Mr. Crowley - 2002 Version\nSilence Speaks (feat. Oli Sykes)\nPagan, Pay Gone\nHTTP Error for GET to https://api.spotify.com/v1/search returned 400 due to No search query\n\nGal a Bubble - Raw\n"
    }
   ],
   "source": [
    "artistlist=[]\n",
    "for value in tracks_df[\"Track_ID\"]:\n",
    "    try:\n",
    "        response=sp.track(value)\n",
    "        artist=response[\"album\"][\"artists\"][0][\"name\"]\n",
    "        artistlist.append(artist)\n",
    "    except:\n",
    "        print(value)\n",
    "        albumlist.append(None)\n",
    "albumlist=[]\n",
    "for value in tracks_df[\"Track_Name\"]:\n",
    "    try:\n",
    "        response=sp.search(value)\n",
    "        album=response[\"tracks\"][\"items\"][0][\"album\"][\"name\"]\n",
    "        albumlist.append(album)\n",
    "    except:\n",
    "        print(value)\n",
    "        albumlist.append(None)"
   ]
  },
  {
   "cell_type": "code",
   "execution_count": 24,
   "metadata": {},
   "outputs": [],
   "source": [
    "tracks_df[\"Track_Artist\"]=artistlist\n",
    "tracks_df[\"Album\"]=albumlist"
   ]
  },
  {
   "cell_type": "code",
   "execution_count": 25,
   "metadata": {},
   "outputs": [],
   "source": [
    "\n",
    "tracks_df = tracks_df.replace(to_replace='None', value=np.nan).dropna()\n",
    "tracks_df.to_csv('reggaerock4.csv', index=False)"
   ]
  },
  {
   "cell_type": "code",
   "execution_count": 26,
   "metadata": {},
   "outputs": [
    {
     "output_type": "execute_result",
     "data": {
      "text/plain": "                   Track_ID              Track_Name       Track_Artist  \\\n0    5SehvGGC53A7SZKCLXQcyt     Nico and the Niners  Twenty One Pilots   \n1    5h27GYpKZWWhFov8fOunF6          What Went Down              Foals   \n3    0S3gpZzlT9Hb7CCSV2owX7   Mama, I'm Coming Home      Ozzy Osbourne   \n4    1FTSo4v6BOZH9QxKc3MbVM  Song 2 - 2012 Remaster               Blur   \n5    7w87IxuO7BDcJ3YUqCyMTT         Pumped Up Kicks  Foster The People   \n..                      ...                     ...                ...   \n193  1dTCwGjVspJIpA318cquIy                    Mama    Various Artists   \n194  13lOjbr1RqCQ8EbzCWqUoJ            Jah Jah Know        Groundation   \n195  3qkgDUwKyHht3WmNTFHg0C    The Same Song - Edit   Israel Vibration   \n196  1gofFAslBqWqeZ1F73GaJe                  Misery          blink-182   \n198  3sbBOn0ifcgoX3MfaTeFKr           Still Blazing          Alborosie   \n\n                                           Preview_URL   Genre  \\\n0    https://p.scdn.co/mp3-preview/68f0ee687aa4830c...    rock   \n1    https://p.scdn.co/mp3-preview/96767c9c15c78605...    rock   \n3    https://p.scdn.co/mp3-preview/30222e11e6be0d1a...    rock   \n4    https://p.scdn.co/mp3-preview/183c0855e94b58dc...    rock   \n5    https://p.scdn.co/mp3-preview/db83e69f4ef8a49f...    rock   \n..                                                 ...     ...   \n193  https://p.scdn.co/mp3-preview/f2f76039717c3457...  reggae   \n194  https://p.scdn.co/mp3-preview/11886134afc97435...  reggae   \n195  https://p.scdn.co/mp3-preview/41558005b7f4c8a4...  reggae   \n196  https://p.scdn.co/mp3-preview/55e93f8c20096507...  reggae   \n198  https://p.scdn.co/mp3-preview/f8090202fe830feb...  reggae   \n\n                                   Album  \n0                                 Trench  \n1                         What Went Down  \n3       No More Tears (Expanded Edition)  \n4                 Blur [Special Edition]  \n5                                Torches  \n..                                   ...  \n193                             MAMACITA  \n194                          Hebron Gate  \n195  Houses of the Holy (Deluxe Edition)  \n196                                Riot!  \n198                          Soul Pirate  \n\n[95 rows x 6 columns]",
      "text/html": "<div>\n<style scoped>\n    .dataframe tbody tr th:only-of-type {\n        vertical-align: middle;\n    }\n\n    .dataframe tbody tr th {\n        vertical-align: top;\n    }\n\n    .dataframe thead th {\n        text-align: right;\n    }\n</style>\n<table border=\"1\" class=\"dataframe\">\n  <thead>\n    <tr style=\"text-align: right;\">\n      <th></th>\n      <th>Track_ID</th>\n      <th>Track_Name</th>\n      <th>Track_Artist</th>\n      <th>Preview_URL</th>\n      <th>Genre</th>\n      <th>Album</th>\n    </tr>\n  </thead>\n  <tbody>\n    <tr>\n      <th>0</th>\n      <td>5SehvGGC53A7SZKCLXQcyt</td>\n      <td>Nico and the Niners</td>\n      <td>Twenty One Pilots</td>\n      <td>https://p.scdn.co/mp3-preview/68f0ee687aa4830c...</td>\n      <td>rock</td>\n      <td>Trench</td>\n    </tr>\n    <tr>\n      <th>1</th>\n      <td>5h27GYpKZWWhFov8fOunF6</td>\n      <td>What Went Down</td>\n      <td>Foals</td>\n      <td>https://p.scdn.co/mp3-preview/96767c9c15c78605...</td>\n      <td>rock</td>\n      <td>What Went Down</td>\n    </tr>\n    <tr>\n      <th>3</th>\n      <td>0S3gpZzlT9Hb7CCSV2owX7</td>\n      <td>Mama, I'm Coming Home</td>\n      <td>Ozzy Osbourne</td>\n      <td>https://p.scdn.co/mp3-preview/30222e11e6be0d1a...</td>\n      <td>rock</td>\n      <td>No More Tears (Expanded Edition)</td>\n    </tr>\n    <tr>\n      <th>4</th>\n      <td>1FTSo4v6BOZH9QxKc3MbVM</td>\n      <td>Song 2 - 2012 Remaster</td>\n      <td>Blur</td>\n      <td>https://p.scdn.co/mp3-preview/183c0855e94b58dc...</td>\n      <td>rock</td>\n      <td>Blur [Special Edition]</td>\n    </tr>\n    <tr>\n      <th>5</th>\n      <td>7w87IxuO7BDcJ3YUqCyMTT</td>\n      <td>Pumped Up Kicks</td>\n      <td>Foster The People</td>\n      <td>https://p.scdn.co/mp3-preview/db83e69f4ef8a49f...</td>\n      <td>rock</td>\n      <td>Torches</td>\n    </tr>\n    <tr>\n      <th>...</th>\n      <td>...</td>\n      <td>...</td>\n      <td>...</td>\n      <td>...</td>\n      <td>...</td>\n      <td>...</td>\n    </tr>\n    <tr>\n      <th>193</th>\n      <td>1dTCwGjVspJIpA318cquIy</td>\n      <td>Mama</td>\n      <td>Various Artists</td>\n      <td>https://p.scdn.co/mp3-preview/f2f76039717c3457...</td>\n      <td>reggae</td>\n      <td>MAMACITA</td>\n    </tr>\n    <tr>\n      <th>194</th>\n      <td>13lOjbr1RqCQ8EbzCWqUoJ</td>\n      <td>Jah Jah Know</td>\n      <td>Groundation</td>\n      <td>https://p.scdn.co/mp3-preview/11886134afc97435...</td>\n      <td>reggae</td>\n      <td>Hebron Gate</td>\n    </tr>\n    <tr>\n      <th>195</th>\n      <td>3qkgDUwKyHht3WmNTFHg0C</td>\n      <td>The Same Song - Edit</td>\n      <td>Israel Vibration</td>\n      <td>https://p.scdn.co/mp3-preview/41558005b7f4c8a4...</td>\n      <td>reggae</td>\n      <td>Houses of the Holy (Deluxe Edition)</td>\n    </tr>\n    <tr>\n      <th>196</th>\n      <td>1gofFAslBqWqeZ1F73GaJe</td>\n      <td>Misery</td>\n      <td>blink-182</td>\n      <td>https://p.scdn.co/mp3-preview/55e93f8c20096507...</td>\n      <td>reggae</td>\n      <td>Riot!</td>\n    </tr>\n    <tr>\n      <th>198</th>\n      <td>3sbBOn0ifcgoX3MfaTeFKr</td>\n      <td>Still Blazing</td>\n      <td>Alborosie</td>\n      <td>https://p.scdn.co/mp3-preview/f8090202fe830feb...</td>\n      <td>reggae</td>\n      <td>Soul Pirate</td>\n    </tr>\n  </tbody>\n</table>\n<p>95 rows × 6 columns</p>\n</div>"
     },
     "metadata": {},
     "execution_count": 26
    }
   ],
   "source": [
    "tracks_df"
   ]
  },
  {
   "cell_type": "code",
   "execution_count": null,
   "metadata": {},
   "outputs": [],
   "source": []
  }
 ],
 "metadata": {
  "kernelspec": {
   "display_name": "Python 3.6.10 64-bit ('PythonDataViz': conda)",
   "language": "python",
   "name": "python_defaultSpec_1600452405381"
  },
  "language_info": {
   "codemirror_mode": {
    "name": "ipython",
    "version": 3
   },
   "file_extension": ".py",
   "mimetype": "text/x-python",
   "name": "python",
   "nbconvert_exporter": "python",
   "pygments_lexer": "ipython3",
   "version": "3.6.10-final"
  }
 },
 "nbformat": 4,
 "nbformat_minor": 4
}