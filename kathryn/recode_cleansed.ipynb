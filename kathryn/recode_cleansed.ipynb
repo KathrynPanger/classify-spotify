{
 "metadata": {
  "language_info": {
   "codemirror_mode": {
    "name": "ipython",
    "version": 3
   },
   "file_extension": ".py",
   "mimetype": "text/x-python",
   "name": "python",
   "nbconvert_exporter": "python",
   "pygments_lexer": "ipython3",
   "version": "3.6.10-final"
  },
  "orig_nbformat": 2,
  "kernelspec": {
   "name": "python_defaultSpec_1600203712553",
   "display_name": "Python 3.6.10 64-bit ('PythonDataViz': conda)"
  }
 },
 "nbformat": 4,
 "nbformat_minor": 2,
 "cells": [
  {
   "cell_type": "code",
   "execution_count": 2,
   "metadata": {},
   "outputs": [],
   "source": [
    "import pandas as pd"
   ]
  },
  {
   "cell_type": "code",
   "execution_count": 4,
   "metadata": {},
   "outputs": [],
   "source": [
    "df=pd.read_csv(\"cleansed_df.csv\")"
   ]
  },
  {
   "cell_type": "code",
   "execution_count": 11,
   "metadata": {},
   "outputs": [],
   "source": [
    "genrelist= list(set(df[\"Genre\"].values))\n"
   ]
  },
  {
   "cell_type": "code",
   "execution_count": 18,
   "metadata": {},
   "outputs": [],
   "source": [
    "index=[number for number in range(0,len(genrelist))]"
   ]
  },
  {
   "cell_type": "code",
   "execution_count": 31,
   "metadata": {},
   "outputs": [],
   "source": [
    "ziplist=[]\n",
    "for i in range(0,len(genrelist)):\n",
    "    ziplist.append([genrelist[i],i])"
   ]
  },
  {
   "cell_type": "code",
   "execution_count": 32,
   "metadata": {},
   "outputs": [
    {
     "output_type": "execute_result",
     "data": {
      "text/plain": "[['party', 0],\n ['k-pop', 1],\n ['soul', 2],\n ['gospel', 3],\n ['mandopop', 4],\n ['rock-n-roll', 5],\n ['industrial', 6],\n ['alt-rock', 7],\n ['black-metal', 8],\n ['swedish', 9],\n ['j-idol', 10],\n ['honky-tonk', 11],\n ['tango', 12],\n ['latin', 13],\n ['forro', 14],\n ['road-trip', 15],\n ['sertanejo', 16],\n ['show-tunes', 17],\n ['sad', 18],\n ['club', 19],\n ['german', 20],\n ['rockabilly', 21],\n ['house', 22],\n ['alternative', 23],\n ['detroit-techno', 24],\n ['progressive-house', 25],\n ['afrobeat', 26],\n ['deep-house', 27],\n ['dancehall', 28],\n ['j-pop', 29],\n ['disco', 30],\n ['chicago-house', 31],\n ['singer-songwriter', 32],\n ['folk', 33],\n ['ska', 34],\n ['cantopop', 35],\n ['edm', 36],\n ['comedy', 37],\n ['bossanova', 38],\n ['rock', 39],\n ['trip-hop', 40],\n ['ambient', 41],\n ['work-out', 42],\n ['metalcore', 43],\n ['pagode', 44],\n ['acoustic', 45],\n ['children', 46],\n ['country', 47],\n ['synth-pop', 48],\n ['holidays', 49],\n ['anime', 50],\n ['romance', 51],\n ['hardstyle', 52],\n ['breakbeat', 53],\n ['happy', 54],\n ['pop', 55],\n ['salsa', 56],\n ['blues', 57],\n ['sleep', 58],\n ['heavy-metal', 59],\n ['idm', 60],\n ['punk-rock', 61],\n ['chill', 62],\n ['opera', 63],\n ['jazz', 64],\n ['techno', 65],\n ['songwriter', 66],\n ['drum-and-bass', 67],\n ['indian', 68],\n ['minimal-techno', 69],\n ['study', 70],\n ['hardcore', 71],\n ['malay', 72],\n ['classical', 73],\n ['french', 74],\n ['british', 75],\n ['hard-rock', 76],\n ['power-pop', 77],\n ['indie-pop', 78],\n ['kids', 79],\n ['reggaeton', 80],\n ['indie', 81],\n ['dub', 82],\n ['turkish', 83],\n ['reggae', 84],\n ['metal', 85],\n ['electro', 86],\n ['latino', 87],\n ['emo', 88],\n ['summer', 89],\n ['death-metal', 90],\n ['disney', 91],\n ['philippines-opm', 92],\n ['r-n-b', 93],\n ['post-dubstep', 94],\n ['brazil', 95],\n ['trance', 96],\n ['punk', 97],\n ['spanish', 98],\n ['goth', 99],\n ['world-music', 100],\n ['piano', 101],\n ['iranian', 102],\n ['hip-hop', 103],\n ['new-age', 104],\n ['grindcore', 105],\n ['bluegrass', 106],\n ['j-dance', 107],\n ['rainy-day', 108],\n ['grunge', 109],\n ['samba', 110],\n ['psych-rock', 111],\n ['movies', 112],\n ['soundtracks', 113],\n ['j-rock', 114],\n ['garage', 115],\n ['groove', 116],\n ['mpb', 117],\n ['guitar', 118],\n ['electronic', 119],\n ['dance', 120],\n ['dubstep', 121]]"
     },
     "metadata": {},
     "execution_count": 32
    }
   ],
   "source": [
    "ziplist"
   ]
  },
  {
   "cell_type": "code",
   "execution_count": null,
   "metadata": {},
   "outputs": [],
   "source": []
  }
 ]
}