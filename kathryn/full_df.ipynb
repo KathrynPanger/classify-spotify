{
 "metadata": {
  "language_info": {
   "codemirror_mode": {
    "name": "ipython",
    "version": 3
   },
   "file_extension": ".py",
   "mimetype": "text/x-python",
   "name": "python",
   "nbconvert_exporter": "python",
   "pygments_lexer": "ipython3",
   "version": "3.6.10-final"
  },
  "orig_nbformat": 2,
  "kernelspec": {
   "name": "python_defaultSpec_1600605609106",
   "display_name": "Python 3.6.10 64-bit ('PythonDataViz': conda)"
  }
 },
 "nbformat": 4,
 "nbformat_minor": 2,
 "cells": [
  {
   "cell_type": "code",
   "execution_count": 1,
   "metadata": {},
   "outputs": [],
   "source": [
    "import pandas as pd"
   ]
  },
  {
   "cell_type": "code",
   "execution_count": 10,
   "metadata": {},
   "outputs": [],
   "source": [
    "reggae_rock1=pd.read_csv('reggaerock_final.csv')\n",
    "reggae_rock2=pd.read_csv('reggaerock_final2.csv')\n",
    "reggae_rock3=pd.read_csv('reggaerock_final3.csv')\n",
    "reggae_rock4=pd.read_csv('reggaerock_final4.csv')\n",
    "reggae_rock5=pd.read_csv('reggaerock_final5.csv')\n",
    "reggae_rock6=pd.read_csv('reggaerock_final6.csv')\n",
    "reggae_rock7=pd.read_csv('reggaerock_final7.csv')\n",
    "reggae_rock8=pd.read_csv('reggaerock_final8.csv')\n",
    "reggae_rock9=pd.read_csv('reggaerock_final9.csv')\n",
    "reggae_rock10=pd.read_csv('reggaerock_final10.csv')\n",
    "jazz1=pd.read_csv('../Heesung/jazz/jazz_csv/jazz_track_dataframe_1.csv')\n",
    "jazz2=pd.read_csv('../Heesung/jazz/jazz_csv/jazz_track_dataframe_2.csv')\n",
    "jazz3=pd.read_csv('../Heesung/jazz/jazz_csv/jazz_track_dataframe_3.csv')\n",
    "pop1=pd.read_csv('../Heesung/pop/pop_csv/pop_track_dataframe_1.csv')\n",
    "pop2=pd.read_csv('../Heesung/pop/pop_csv/pop_track_dataframe_2.csv')\n",
    "pop3=pd.read_csv('../Heesung/pop/pop_csv/pop_track_dataframe_3.csv')\n",
    "blues1=pd.read_csv('../caitlin/blues/blues_dataframe_1.csv')\n",
    "blues2=pd.read_csv('../caitlin/blues/blues_dataframe_2.csv')\n",
    "blues3=pd.read_csv('../caitlin/blues/blues_dataframe_3.csv')\n",
    "blues4=pd.read_csv('../caitlin/blues/blues_dataframe_4.csv')\n",
    "blues5=pd.read_csv('../caitlin/blues/blues_dataframe_5.csv')\n",
    "classical1=pd.read_csv('../caitlin/classical/classical_dataframe_1.csv')\n",
    "classical2=pd.read_csv('../caitlin/classical/classical_dataframe_2.csv')\n",
    "classical3=pd.read_csv('../caitlin/classical/classical_dataframe_3.csv')\n",
    "classical4=pd.read_csv('../caitlin/classical/classical_dataframe_4.csv')\n",
    "classical5=pd.read_csv('../caitlin/classical/classical_dataframe_5.csv')\n",
    "country1=pd.read_csv('../caitlin/country/country_dataframe_1.csv')\n",
    "country2=pd.read_csv('../caitlin/country/country_dataframe_2.csv')\n",
    "country3=pd.read_csv('../caitlin/country/country_dataframe_3.csv')\n",
    "country4=pd.read_csv('../caitlin/country/country_dataframe_4.csv')\n",
    "country5=pd.read_csv('../caitlin/country/country_dataframe_5.csv')\n",
    "disco1=pd.read_csv('../Seth/disco/disco_api_data/disco1.csv')\n",
    "disco2=pd.read_csv('../Seth/disco/disco_api_data/disco2.csv')\n",
    "disco3=pd.read_csv('../Seth/disco/disco_api_data/disco3.csv')\n",
    "disco4=pd.read_csv('../Seth/disco/disco_api_data/disco4.csv')\n",
    "disco5=pd.read_csv('../Seth/disco/disco_api_data/disco5.csv')\n",
    "disco6=pd.read_csv('../Seth/disco/disco_api_data/disco6.csv')\n",
    "disco7=pd.read_csv('../Seth/disco/disco_api_data/disco7.csv')\n",
    "hiphop1=pd.read_csv('../Seth/hiphop/hiphop1.csv')\n",
    "hiphop2=pd.read_csv('../Seth/hiphop/hiphop2.csv')\n",
    "hiphop3=pd.read_csv('../Seth/hiphop/hiphop3.csv')\n",
    "hiphop4=pd.read_csv('../Seth/hiphop/hiphop4.csv')\n",
    "hiphop5=pd.read_csv('../Seth/hiphop/hiphop5.csv')\n",
    "hiphop6=pd.read_csv('../Seth/hiphop/hiphop6.csv')\n",
    "hiphop7=pd.read_csv('../Seth/hiphop/hiphop7.csv')"
   ]
  },
  {
   "cell_type": "code",
   "execution_count": 11,
   "metadata": {},
   "outputs": [],
   "source": [
    "df_list=[reggae_rock1, reggae_rock2, reggae_rock3,reggae_rock4,reggae_rock5, reggae_rock6,reggae_rock7,reggae_rock8,reggae_rock9,reggae_rock10, jazz1, jazz2, jazz3, pop1, pop2,pop3,blues1,blues2,blues3,blues4,blues5, classical1, classical2, classical3, classical4, classical5, country1,country2,country3,country4,country5, disco1,disco2,disco3,disco4,disco5,disco6,disco7, hiphop1,hiphop2,hiphop3,hiphop4,hiphop5,hiphop6,hiphop7]"
   ]
  },
  {
   "cell_type": "code",
   "execution_count": null,
   "metadata": {},
   "outputs": [],
   "source": []
  },
  {
   "cell_type": "code",
   "execution_count": 19,
   "metadata": {
    "tags": []
   },
   "outputs": [],
   "source": [
    "for df in df_list:\n",
    "    try:\n",
    "        df.set_index(\"Track_ID\")\n",
    "    except:\n",
    "        try:\n",
    "            df.rename(columns = {'Track ID':'Track_ID'}, inplace = True)\n",
    "            df.set_index(\"Track_ID\")\n",
    "        except:\n",
    "            df[\"Track_ID\"]=None"
   ]
  },
  {
   "cell_type": "code",
   "execution_count": 53,
   "metadata": {},
   "outputs": [],
   "source": [
    "for df in df_list:\n",
    "    df.rename(columns = {'Track Name':'Track_Name'}, inplace = True)\n",
    "    df.rename(columns = {'Preview link':'Preview_URL'}, inplace = True)\n",
    "    df.rename(columns = {'Preview_link':'Preview_URL'}, inplace = True)"
   ]
  },
  {
   "cell_type": "code",
   "execution_count": 70,
   "metadata": {},
   "outputs": [
    {
     "output_type": "error",
     "ename": "KeyError",
     "evalue": "'Track_Artist'",
     "traceback": [
      "\u001b[1;31m---------------------------------------------------------------------------\u001b[0m",
      "\u001b[1;31mKeyError\u001b[0m                                  Traceback (most recent call last)",
      "\u001b[1;32m<ipython-input-70-c603ef4e5c8a>\u001b[0m in \u001b[0;36m<module>\u001b[1;34m\u001b[0m\n\u001b[0;32m      1\u001b[0m \u001b[0mmaster_df\u001b[0m\u001b[1;33m=\u001b[0m\u001b[0mreggae_rock1\u001b[0m\u001b[1;33m\u001b[0m\u001b[1;33m\u001b[0m\u001b[0m\n\u001b[0;32m      2\u001b[0m \u001b[1;32mfor\u001b[0m \u001b[0mdf\u001b[0m \u001b[1;32min\u001b[0m \u001b[0mdf_list\u001b[0m\u001b[1;33m:\u001b[0m\u001b[1;33m\u001b[0m\u001b[1;33m\u001b[0m\u001b[0m\n\u001b[1;32m----> 3\u001b[1;33m     \u001b[0mmaster_df\u001b[0m\u001b[1;33m=\u001b[0m\u001b[0mmaster_df\u001b[0m\u001b[1;33m.\u001b[0m\u001b[0mmerge\u001b[0m\u001b[1;33m(\u001b[0m\u001b[0mdf\u001b[0m\u001b[1;33m,\u001b[0m\u001b[0mhow\u001b[0m\u001b[1;33m=\u001b[0m\u001b[1;34m\"outer\"\u001b[0m\u001b[1;33m,\u001b[0m \u001b[0mon\u001b[0m\u001b[1;33m=\u001b[0m\u001b[1;33m[\u001b[0m\u001b[1;34m'Track_ID'\u001b[0m\u001b[1;33m,\u001b[0m \u001b[1;34m'Track_Name'\u001b[0m\u001b[1;33m,\u001b[0m\u001b[1;34m'Preview_URL'\u001b[0m\u001b[1;33m,\u001b[0m\u001b[1;34m'Track_Artist'\u001b[0m\u001b[1;33m]\u001b[0m\u001b[1;33m)\u001b[0m\u001b[1;33m\u001b[0m\u001b[1;33m\u001b[0m\u001b[0m\n\u001b[0m",
      "\u001b[1;32m~\\.conda\\envs\\PythonDataViz\\lib\\site-packages\\pandas\\core\\frame.py\u001b[0m in \u001b[0;36mmerge\u001b[1;34m(self, right, how, on, left_on, right_on, left_index, right_index, sort, suffixes, copy, indicator, validate)\u001b[0m\n\u001b[0;32m   7954\u001b[0m             \u001b[0mcopy\u001b[0m\u001b[1;33m=\u001b[0m\u001b[0mcopy\u001b[0m\u001b[1;33m,\u001b[0m\u001b[1;33m\u001b[0m\u001b[1;33m\u001b[0m\u001b[0m\n\u001b[0;32m   7955\u001b[0m             \u001b[0mindicator\u001b[0m\u001b[1;33m=\u001b[0m\u001b[0mindicator\u001b[0m\u001b[1;33m,\u001b[0m\u001b[1;33m\u001b[0m\u001b[1;33m\u001b[0m\u001b[0m\n\u001b[1;32m-> 7956\u001b[1;33m             \u001b[0mvalidate\u001b[0m\u001b[1;33m=\u001b[0m\u001b[0mvalidate\u001b[0m\u001b[1;33m,\u001b[0m\u001b[1;33m\u001b[0m\u001b[1;33m\u001b[0m\u001b[0m\n\u001b[0m\u001b[0;32m   7957\u001b[0m         )\n\u001b[0;32m   7958\u001b[0m \u001b[1;33m\u001b[0m\u001b[0m\n",
      "\u001b[1;32m~\\.conda\\envs\\PythonDataViz\\lib\\site-packages\\pandas\\core\\reshape\\merge.py\u001b[0m in \u001b[0;36mmerge\u001b[1;34m(left, right, how, on, left_on, right_on, left_index, right_index, sort, suffixes, copy, indicator, validate)\u001b[0m\n\u001b[0;32m     85\u001b[0m         \u001b[0mcopy\u001b[0m\u001b[1;33m=\u001b[0m\u001b[0mcopy\u001b[0m\u001b[1;33m,\u001b[0m\u001b[1;33m\u001b[0m\u001b[1;33m\u001b[0m\u001b[0m\n\u001b[0;32m     86\u001b[0m         \u001b[0mindicator\u001b[0m\u001b[1;33m=\u001b[0m\u001b[0mindicator\u001b[0m\u001b[1;33m,\u001b[0m\u001b[1;33m\u001b[0m\u001b[1;33m\u001b[0m\u001b[0m\n\u001b[1;32m---> 87\u001b[1;33m         \u001b[0mvalidate\u001b[0m\u001b[1;33m=\u001b[0m\u001b[0mvalidate\u001b[0m\u001b[1;33m,\u001b[0m\u001b[1;33m\u001b[0m\u001b[1;33m\u001b[0m\u001b[0m\n\u001b[0m\u001b[0;32m     88\u001b[0m     )\n\u001b[0;32m     89\u001b[0m     \u001b[1;32mreturn\u001b[0m \u001b[0mop\u001b[0m\u001b[1;33m.\u001b[0m\u001b[0mget_result\u001b[0m\u001b[1;33m(\u001b[0m\u001b[1;33m)\u001b[0m\u001b[1;33m\u001b[0m\u001b[1;33m\u001b[0m\u001b[0m\n",
      "\u001b[1;32m~\\.conda\\envs\\PythonDataViz\\lib\\site-packages\\pandas\\core\\reshape\\merge.py\u001b[0m in \u001b[0;36m__init__\u001b[1;34m(self, left, right, how, on, left_on, right_on, axis, left_index, right_index, sort, suffixes, copy, indicator, validate)\u001b[0m\n\u001b[0;32m    650\u001b[0m             \u001b[0mself\u001b[0m\u001b[1;33m.\u001b[0m\u001b[0mright_join_keys\u001b[0m\u001b[1;33m,\u001b[0m\u001b[1;33m\u001b[0m\u001b[1;33m\u001b[0m\u001b[0m\n\u001b[0;32m    651\u001b[0m             \u001b[0mself\u001b[0m\u001b[1;33m.\u001b[0m\u001b[0mjoin_names\u001b[0m\u001b[1;33m,\u001b[0m\u001b[1;33m\u001b[0m\u001b[1;33m\u001b[0m\u001b[0m\n\u001b[1;32m--> 652\u001b[1;33m         ) = self._get_merge_keys()\n\u001b[0m\u001b[0;32m    653\u001b[0m \u001b[1;33m\u001b[0m\u001b[0m\n\u001b[0;32m    654\u001b[0m         \u001b[1;31m# validate the merge keys dtypes. We may need to coerce\u001b[0m\u001b[1;33m\u001b[0m\u001b[1;33m\u001b[0m\u001b[1;33m\u001b[0m\u001b[0m\n",
      "\u001b[1;32m~\\.conda\\envs\\PythonDataViz\\lib\\site-packages\\pandas\\core\\reshape\\merge.py\u001b[0m in \u001b[0;36m_get_merge_keys\u001b[1;34m(self)\u001b[0m\n\u001b[0;32m   1003\u001b[0m                     \u001b[1;32mif\u001b[0m \u001b[1;32mnot\u001b[0m \u001b[0mis_rkey\u001b[0m\u001b[1;33m(\u001b[0m\u001b[0mrk\u001b[0m\u001b[1;33m)\u001b[0m\u001b[1;33m:\u001b[0m\u001b[1;33m\u001b[0m\u001b[1;33m\u001b[0m\u001b[0m\n\u001b[0;32m   1004\u001b[0m                         \u001b[1;32mif\u001b[0m \u001b[0mrk\u001b[0m \u001b[1;32mis\u001b[0m \u001b[1;32mnot\u001b[0m \u001b[1;32mNone\u001b[0m\u001b[1;33m:\u001b[0m\u001b[1;33m\u001b[0m\u001b[1;33m\u001b[0m\u001b[0m\n\u001b[1;32m-> 1005\u001b[1;33m                             \u001b[0mright_keys\u001b[0m\u001b[1;33m.\u001b[0m\u001b[0mappend\u001b[0m\u001b[1;33m(\u001b[0m\u001b[0mright\u001b[0m\u001b[1;33m.\u001b[0m\u001b[0m_get_label_or_level_values\u001b[0m\u001b[1;33m(\u001b[0m\u001b[0mrk\u001b[0m\u001b[1;33m)\u001b[0m\u001b[1;33m)\u001b[0m\u001b[1;33m\u001b[0m\u001b[1;33m\u001b[0m\u001b[0m\n\u001b[0m\u001b[0;32m   1006\u001b[0m                         \u001b[1;32melse\u001b[0m\u001b[1;33m:\u001b[0m\u001b[1;33m\u001b[0m\u001b[1;33m\u001b[0m\u001b[0m\n\u001b[0;32m   1007\u001b[0m                             \u001b[1;31m# work-around for merge_asof(right_index=True)\u001b[0m\u001b[1;33m\u001b[0m\u001b[1;33m\u001b[0m\u001b[1;33m\u001b[0m\u001b[0m\n",
      "\u001b[1;32m~\\.conda\\envs\\PythonDataViz\\lib\\site-packages\\pandas\\core\\generic.py\u001b[0m in \u001b[0;36m_get_label_or_level_values\u001b[1;34m(self, key, axis)\u001b[0m\n\u001b[0;32m   1558\u001b[0m             \u001b[0mvalues\u001b[0m \u001b[1;33m=\u001b[0m \u001b[0mself\u001b[0m\u001b[1;33m.\u001b[0m\u001b[0maxes\u001b[0m\u001b[1;33m[\u001b[0m\u001b[0maxis\u001b[0m\u001b[1;33m]\u001b[0m\u001b[1;33m.\u001b[0m\u001b[0mget_level_values\u001b[0m\u001b[1;33m(\u001b[0m\u001b[0mkey\u001b[0m\u001b[1;33m)\u001b[0m\u001b[1;33m.\u001b[0m\u001b[0m_values\u001b[0m\u001b[1;33m\u001b[0m\u001b[1;33m\u001b[0m\u001b[0m\n\u001b[0;32m   1559\u001b[0m         \u001b[1;32melse\u001b[0m\u001b[1;33m:\u001b[0m\u001b[1;33m\u001b[0m\u001b[1;33m\u001b[0m\u001b[0m\n\u001b[1;32m-> 1560\u001b[1;33m             \u001b[1;32mraise\u001b[0m \u001b[0mKeyError\u001b[0m\u001b[1;33m(\u001b[0m\u001b[0mkey\u001b[0m\u001b[1;33m)\u001b[0m\u001b[1;33m\u001b[0m\u001b[1;33m\u001b[0m\u001b[0m\n\u001b[0m\u001b[0;32m   1561\u001b[0m \u001b[1;33m\u001b[0m\u001b[0m\n\u001b[0;32m   1562\u001b[0m         \u001b[1;31m# Check for duplicates\u001b[0m\u001b[1;33m\u001b[0m\u001b[1;33m\u001b[0m\u001b[1;33m\u001b[0m\u001b[0m\n",
      "\u001b[1;31mKeyError\u001b[0m: 'Track_Artist'"
     ]
    }
   ],
   "source": [
    "master_df=reggae_rock1\n",
    "for df in df_list:\n",
    "    master_df=master_df.merge(df,how=\"outer\", on=['Track_ID', 'Track_Name','Preview_URL','Track_Artist'])"
   ]
  },
  {
   "cell_type": "code",
   "execution_count": 73,
   "metadata": {
    "tags": []
   },
   "outputs": [
    {
     "output_type": "stream",
     "name": "stdout",
     "text": "Index(['Track_ID', 'Track_Name', 'Track_Artist', 'Preview_URL', 'Genre'], dtype='object')\nIndex(['Track_ID', 'Track_Name', 'Track_Artist', 'Preview_URL', 'Genre',\n       'Album'],\n      dtype='object')\nIndex(['Track_ID', 'Track_Name', 'Track_Artist', 'Preview_URL', 'Genre',\n       'Album'],\n      dtype='object')\nIndex(['Track_ID', 'Track_Name', 'Track_Artist', 'Preview_URL', 'Genre',\n       'Album'],\n      dtype='object')\nIndex(['Track_ID', 'Track_Name', 'Track_Artist', 'Preview_URL', 'Genre',\n       'Album'],\n      dtype='object')\nIndex(['Track_ID', 'Track_Name', 'Track_Artist', 'Preview_URL', 'Genre',\n       'Album'],\n      dtype='object')\nIndex(['Track_ID', 'Track_Name', 'Track_Artist', 'Preview_URL', 'Genre',\n       'Album'],\n      dtype='object')\nIndex(['Track_ID', 'Track_Name', 'Track_Artist', 'Preview_URL', 'Genre',\n       'Album'],\n      dtype='object')\nIndex(['Track_ID', 'Track_Name', 'Track_Artist', 'Preview_URL', 'Genre',\n       'Album'],\n      dtype='object')\nIndex(['Track_ID', 'Track_Name', 'Track_Artist', 'Preview_URL', 'Genre',\n       'Album'],\n      dtype='object')\nIndex(['Unnamed: 0', 'Genre', 'Track_Name', 'Track_ID', 'Preview_URL'], dtype='object')\nIndex(['Unnamed: 0', 'Genre', 'Track_Name', 'Track_ID', 'Preview_URL'], dtype='object')\nIndex(['Unnamed: 0', 'Genre', 'Track_Name', 'Track_ID', 'Preview_URL'], dtype='object')\nIndex(['Unnamed: 0', 'Genre', 'Track_Name', 'Track_ID', 'Preview_URL'], dtype='object')\nIndex(['Unnamed: 0', 'Genre', 'Track_Name', 'Track_ID', 'Preview_URL'], dtype='object')\nIndex(['Unnamed: 0', 'Genre', 'Track_Name', 'Track_ID', 'Preview_URL'], dtype='object')\nIndex(['Genre', 'Track_Name', 'Track_ID', 'Preview_URL'], dtype='object')\nIndex(['Genre', 'Track_Name', 'Track_ID', 'Preview_URL'], dtype='object')\nIndex(['Genre', 'Track_Name', 'Track_ID', 'Preview_URL'], dtype='object')\nIndex(['Genre', 'Track_Name', 'Track_ID', 'Preview_URL'], dtype='object')\nIndex(['Genre', 'Track_Name', 'Track_ID', 'Preview_URL'], dtype='object')\nIndex(['Genre', 'Track_Name', 'Track_ID', 'Preview_URL'], dtype='object')\nIndex(['Genre', 'Track_Name', 'Track_ID', 'Preview_URL'], dtype='object')\nIndex(['Genre', 'Track_Name', 'Track_ID', 'Preview_URL'], dtype='object')\nIndex(['Genre', 'Track_Name', 'Track_ID', 'Preview_URL'], dtype='object')\nIndex(['Genre', 'Track_Name', 'Track_ID', 'Preview_URL'], dtype='object')\nIndex(['Genre', 'Track_Name', 'Track_ID', 'Preview_URL'], dtype='object')\nIndex(['Genre', 'Track_Name', 'Track_ID', 'Preview_URL'], dtype='object')\nIndex(['Genre', 'Track_Name', 'Track_ID', 'Preview_URL'], dtype='object')\nIndex(['Genre', 'Track_Name', 'Track_ID', 'Preview_URL'], dtype='object')\nIndex(['Genre', 'Track_Name', 'Track_ID', 'Preview_URL'], dtype='object')\nIndex(['Track_ID', 'Track_Name', 'Track_Artist', 'Preview_URL'], dtype='object')\nIndex(['Track_ID', 'Track_Name', 'Track_Artist', 'Preview_URL'], dtype='object')\nIndex(['Track_ID', 'Track_Name', 'Track_Artist', 'Preview_URL'], dtype='object')\nIndex(['Track_ID', 'Track_Name', 'Track_Artist', 'Preview_URL'], dtype='object')\nIndex(['Track_ID', 'Track_Name', 'Track_Artist', 'Preview_URL'], dtype='object')\nIndex(['Track_ID', 'Track_Name', 'Track_Artist', 'Preview_URL'], dtype='object')\nIndex(['Track_ID', 'Track_Name', 'Track_Artist', 'Preview_URL'], dtype='object')\nIndex(['Track_ID', 'Track_Name', 'Track_Artist', 'Preview_URL'], dtype='object')\nIndex(['Track_ID', 'Track_Name', 'Track_Artist', 'Preview_URL'], dtype='object')\nIndex(['Track_ID', 'Track_Name', 'Track_Artist', 'Preview_URL'], dtype='object')\nIndex(['Track_ID', 'Track_Name', 'Track_Artist', 'Preview_URL'], dtype='object')\nIndex(['Track_ID', 'Track_Name', 'Track_Artist', 'Preview_URL'], dtype='object')\nIndex(['Track_ID', 'Track_Name', 'Track_Artist', 'Preview_URL'], dtype='object')\nIndex(['Track_ID', 'Track_Name', 'Track_Artist', 'Preview_URL'], dtype='object')\n"
    }
   ],
   "source": [
    "for df in df_list:\n",
    "    print(df.columns)"
   ]
  },
  {
   "cell_type": "code",
   "execution_count": 50,
   "metadata": {},
   "outputs": [
    {
     "output_type": "execute_result",
     "data": {
      "text/plain": "                    Track_ID  \\\n0     1eX5SoCjIWCIS3TGoZ6upR   \n1     1eX5SoCjIWCIS3TGoZ6upR   \n2     6EPRKhUOdiFSQwGBRBbvsZ   \n3     6EPRKhUOdiFSQwGBRBbvsZ   \n4     6EPRKhUOdiFSQwGBRBbvsZ   \n...                      ...   \n2262  5XLC8xoqyua4U7wJiZAWik   \n2263  0I0wn4G67txQwENcmRH3d6   \n2264  6tZmrNnFao9ofNviYqJwOH   \n2265  5YTM7OgQDt9EJAYcfHLniJ   \n2266  7IhsLJMqdxoo7YAZjaSMru   \n\n                                             Track_Name    Track_Artist_x  \\\n0                                  The Lonesome Boatman  Dropkick Murphys   \n1                                  The Lonesome Boatman  Dropkick Murphys   \n2                                         Ace of Spades         Motörhead   \n3                                         Ace of Spades         Motörhead   \n4                                         Ace of Spades         Motörhead   \n...                                                 ...               ...   \n2262                                         Method Man               NaN   \n2263                                        Caribou Lou               NaN   \n2264  UP! (feat. Chris Brown, Pleasure P) (R&B Remix...               NaN   \n2265                                         Award Tour               NaN   \n2266                                      Dead And Gone               NaN   \n\n                                          Preview_URL_x Genre_x  \\\n0     https://p.scdn.co/mp3-preview/a891eaa4735f8943...    rock   \n1     https://p.scdn.co/mp3-preview/a891eaa4735f8943...    rock   \n2     https://p.scdn.co/mp3-preview/34cf36a576042c34...    rock   \n3     https://p.scdn.co/mp3-preview/34cf36a576042c34...    rock   \n4     https://p.scdn.co/mp3-preview/34cf36a576042c34...  reggae   \n...                                                 ...     ...   \n2262                                                NaN     NaN   \n2263                                                NaN     NaN   \n2264                                                NaN     NaN   \n2265                                                NaN     NaN   \n2266                                                NaN     NaN   \n\n        Track_Artist_y                                      Preview_URL_y  \\\n0     Dropkick Murphys  https://p.scdn.co/mp3-preview/a891eaa4735f8943...   \n1     Dropkick Murphys  https://p.scdn.co/mp3-preview/a891eaa4735f8943...   \n2            Motörhead  https://p.scdn.co/mp3-preview/34cf36a576042c34...   \n3            Motörhead  https://p.scdn.co/mp3-preview/34cf36a576042c34...   \n4            Motörhead  https://p.scdn.co/mp3-preview/34cf36a576042c34...   \n...                ...                                                ...   \n2262               NaN                                                NaN   \n2263               NaN                                                NaN   \n2264               NaN                                                NaN   \n2265               NaN                                                NaN   \n2266               NaN                                                NaN   \n\n     Genre_y    Track_Artist_x  \\\n0       rock  Dropkick Murphys   \n1       rock  Dropkick Murphys   \n2       rock         Motörhead   \n3     reggae         Motörhead   \n4       rock         Motörhead   \n...      ...               ...   \n2262     NaN               NaN   \n2263     NaN               NaN   \n2264     NaN               NaN   \n2265     NaN               NaN   \n2266     NaN               NaN   \n\n                                          Preview_URL_x  ... Track_Artist_x  \\\n0     https://p.scdn.co/mp3-preview/a891eaa4735f8943...  ...            NaN   \n1     https://p.scdn.co/mp3-preview/a891eaa4735f8943...  ...            NaN   \n2     https://p.scdn.co/mp3-preview/34cf36a576042c34...  ...            NaN   \n3     https://p.scdn.co/mp3-preview/34cf36a576042c34...  ...            NaN   \n4     https://p.scdn.co/mp3-preview/34cf36a576042c34...  ...            NaN   \n...                                                 ...  ...            ...   \n2262                                                NaN  ...            NaN   \n2263                                                NaN  ...            NaN   \n2264                                                NaN  ...            NaN   \n2265                                                NaN  ...            NaN   \n2266                                                NaN  ...            NaN   \n\n     Preview_URL_x Track_Artist_y Preview_URL_y Track_Artist_x Preview_URL_x  \\\n0              NaN            NaN           NaN            NaN           NaN   \n1              NaN            NaN           NaN            NaN           NaN   \n2              NaN            NaN           NaN            NaN           NaN   \n3              NaN            NaN           NaN            NaN           NaN   \n4              NaN            NaN           NaN            NaN           NaN   \n...            ...            ...           ...            ...           ...   \n2262           NaN            NaN           NaN            NaN           NaN   \n2263           NaN            NaN           NaN            NaN           NaN   \n2264           NaN            NaN           NaN            NaN           NaN   \n2265           NaN            NaN           NaN            NaN           NaN   \n2266           NaN            NaN           NaN            NaN           NaN   \n\n     Track_Artist_y Preview_URL_y  \\\n0               NaN           NaN   \n1               NaN           NaN   \n2               NaN           NaN   \n3               NaN           NaN   \n4               NaN           NaN   \n...             ...           ...   \n2262            NaN           NaN   \n2263            NaN           NaN   \n2264            NaN           NaN   \n2265            NaN           NaN   \n2266            NaN           NaN   \n\n                                           Track_Artist  \\\n0                                                   NaN   \n1                                                   NaN   \n2                                                   NaN   \n3                                                   NaN   \n4                                                   NaN   \n...                                                 ...   \n2262  [{'external_urls': {'spotify': 'https://open.s...   \n2263  [{'external_urls': {'spotify': 'https://open.s...   \n2264  [{'external_urls': {'spotify': 'https://open.s...   \n2265  [{'external_urls': {'spotify': 'https://open.s...   \n2266  [{'external_urls': {'spotify': 'https://open.s...   \n\n                                            Preview_URL  \n0                                                   NaN  \n1                                                   NaN  \n2                                                   NaN  \n3                                                   NaN  \n4                                                   NaN  \n...                                                 ...  \n2262  https://p.scdn.co/mp3-preview/be150cecaf617c06...  \n2263  https://p.scdn.co/mp3-preview/3139b8e621e6fdb0...  \n2264  https://p.scdn.co/mp3-preview/c4e11bca52a937fa...  \n2265  https://p.scdn.co/mp3-preview/091602d4440f4d4f...  \n2266  https://p.scdn.co/mp3-preview/66fcdde9a21b8b63...  \n\n[2267 rows x 120 columns]",
      "text/html": "<div>\n<style scoped>\n    .dataframe tbody tr th:only-of-type {\n        vertical-align: middle;\n    }\n\n    .dataframe tbody tr th {\n        vertical-align: top;\n    }\n\n    .dataframe thead th {\n        text-align: right;\n    }\n</style>\n<table border=\"1\" class=\"dataframe\">\n  <thead>\n    <tr style=\"text-align: right;\">\n      <th></th>\n      <th>Track_ID</th>\n      <th>Track_Name</th>\n      <th>Track_Artist_x</th>\n      <th>Preview_URL_x</th>\n      <th>Genre_x</th>\n      <th>Track_Artist_y</th>\n      <th>Preview_URL_y</th>\n      <th>Genre_y</th>\n      <th>Track_Artist_x</th>\n      <th>Preview_URL_x</th>\n      <th>...</th>\n      <th>Track_Artist_x</th>\n      <th>Preview_URL_x</th>\n      <th>Track_Artist_y</th>\n      <th>Preview_URL_y</th>\n      <th>Track_Artist_x</th>\n      <th>Preview_URL_x</th>\n      <th>Track_Artist_y</th>\n      <th>Preview_URL_y</th>\n      <th>Track_Artist</th>\n      <th>Preview_URL</th>\n    </tr>\n  </thead>\n  <tbody>\n    <tr>\n      <th>0</th>\n      <td>1eX5SoCjIWCIS3TGoZ6upR</td>\n      <td>The Lonesome Boatman</td>\n      <td>Dropkick Murphys</td>\n      <td>https://p.scdn.co/mp3-preview/a891eaa4735f8943...</td>\n      <td>rock</td>\n      <td>Dropkick Murphys</td>\n      <td>https://p.scdn.co/mp3-preview/a891eaa4735f8943...</td>\n      <td>rock</td>\n      <td>Dropkick Murphys</td>\n      <td>https://p.scdn.co/mp3-preview/a891eaa4735f8943...</td>\n      <td>...</td>\n      <td>NaN</td>\n      <td>NaN</td>\n      <td>NaN</td>\n      <td>NaN</td>\n      <td>NaN</td>\n      <td>NaN</td>\n      <td>NaN</td>\n      <td>NaN</td>\n      <td>NaN</td>\n      <td>NaN</td>\n    </tr>\n    <tr>\n      <th>1</th>\n      <td>1eX5SoCjIWCIS3TGoZ6upR</td>\n      <td>The Lonesome Boatman</td>\n      <td>Dropkick Murphys</td>\n      <td>https://p.scdn.co/mp3-preview/a891eaa4735f8943...</td>\n      <td>rock</td>\n      <td>Dropkick Murphys</td>\n      <td>https://p.scdn.co/mp3-preview/a891eaa4735f8943...</td>\n      <td>rock</td>\n      <td>Dropkick Murphys</td>\n      <td>https://p.scdn.co/mp3-preview/a891eaa4735f8943...</td>\n      <td>...</td>\n      <td>NaN</td>\n      <td>NaN</td>\n      <td>NaN</td>\n      <td>NaN</td>\n      <td>NaN</td>\n      <td>NaN</td>\n      <td>NaN</td>\n      <td>NaN</td>\n      <td>NaN</td>\n      <td>NaN</td>\n    </tr>\n    <tr>\n      <th>2</th>\n      <td>6EPRKhUOdiFSQwGBRBbvsZ</td>\n      <td>Ace of Spades</td>\n      <td>Motörhead</td>\n      <td>https://p.scdn.co/mp3-preview/34cf36a576042c34...</td>\n      <td>rock</td>\n      <td>Motörhead</td>\n      <td>https://p.scdn.co/mp3-preview/34cf36a576042c34...</td>\n      <td>rock</td>\n      <td>Motörhead</td>\n      <td>https://p.scdn.co/mp3-preview/34cf36a576042c34...</td>\n      <td>...</td>\n      <td>NaN</td>\n      <td>NaN</td>\n      <td>NaN</td>\n      <td>NaN</td>\n      <td>NaN</td>\n      <td>NaN</td>\n      <td>NaN</td>\n      <td>NaN</td>\n      <td>NaN</td>\n      <td>NaN</td>\n    </tr>\n    <tr>\n      <th>3</th>\n      <td>6EPRKhUOdiFSQwGBRBbvsZ</td>\n      <td>Ace of Spades</td>\n      <td>Motörhead</td>\n      <td>https://p.scdn.co/mp3-preview/34cf36a576042c34...</td>\n      <td>rock</td>\n      <td>Motörhead</td>\n      <td>https://p.scdn.co/mp3-preview/34cf36a576042c34...</td>\n      <td>reggae</td>\n      <td>Motörhead</td>\n      <td>https://p.scdn.co/mp3-preview/34cf36a576042c34...</td>\n      <td>...</td>\n      <td>NaN</td>\n      <td>NaN</td>\n      <td>NaN</td>\n      <td>NaN</td>\n      <td>NaN</td>\n      <td>NaN</td>\n      <td>NaN</td>\n      <td>NaN</td>\n      <td>NaN</td>\n      <td>NaN</td>\n    </tr>\n    <tr>\n      <th>4</th>\n      <td>6EPRKhUOdiFSQwGBRBbvsZ</td>\n      <td>Ace of Spades</td>\n      <td>Motörhead</td>\n      <td>https://p.scdn.co/mp3-preview/34cf36a576042c34...</td>\n      <td>reggae</td>\n      <td>Motörhead</td>\n      <td>https://p.scdn.co/mp3-preview/34cf36a576042c34...</td>\n      <td>rock</td>\n      <td>Motörhead</td>\n      <td>https://p.scdn.co/mp3-preview/34cf36a576042c34...</td>\n      <td>...</td>\n      <td>NaN</td>\n      <td>NaN</td>\n      <td>NaN</td>\n      <td>NaN</td>\n      <td>NaN</td>\n      <td>NaN</td>\n      <td>NaN</td>\n      <td>NaN</td>\n      <td>NaN</td>\n      <td>NaN</td>\n    </tr>\n    <tr>\n      <th>...</th>\n      <td>...</td>\n      <td>...</td>\n      <td>...</td>\n      <td>...</td>\n      <td>...</td>\n      <td>...</td>\n      <td>...</td>\n      <td>...</td>\n      <td>...</td>\n      <td>...</td>\n      <td>...</td>\n      <td>...</td>\n      <td>...</td>\n      <td>...</td>\n      <td>...</td>\n      <td>...</td>\n      <td>...</td>\n      <td>...</td>\n      <td>...</td>\n      <td>...</td>\n      <td>...</td>\n    </tr>\n    <tr>\n      <th>2262</th>\n      <td>5XLC8xoqyua4U7wJiZAWik</td>\n      <td>Method Man</td>\n      <td>NaN</td>\n      <td>NaN</td>\n      <td>NaN</td>\n      <td>NaN</td>\n      <td>NaN</td>\n      <td>NaN</td>\n      <td>NaN</td>\n      <td>NaN</td>\n      <td>...</td>\n      <td>NaN</td>\n      <td>NaN</td>\n      <td>NaN</td>\n      <td>NaN</td>\n      <td>NaN</td>\n      <td>NaN</td>\n      <td>NaN</td>\n      <td>NaN</td>\n      <td>[{'external_urls': {'spotify': 'https://open.s...</td>\n      <td>https://p.scdn.co/mp3-preview/be150cecaf617c06...</td>\n    </tr>\n    <tr>\n      <th>2263</th>\n      <td>0I0wn4G67txQwENcmRH3d6</td>\n      <td>Caribou Lou</td>\n      <td>NaN</td>\n      <td>NaN</td>\n      <td>NaN</td>\n      <td>NaN</td>\n      <td>NaN</td>\n      <td>NaN</td>\n      <td>NaN</td>\n      <td>NaN</td>\n      <td>...</td>\n      <td>NaN</td>\n      <td>NaN</td>\n      <td>NaN</td>\n      <td>NaN</td>\n      <td>NaN</td>\n      <td>NaN</td>\n      <td>NaN</td>\n      <td>NaN</td>\n      <td>[{'external_urls': {'spotify': 'https://open.s...</td>\n      <td>https://p.scdn.co/mp3-preview/3139b8e621e6fdb0...</td>\n    </tr>\n    <tr>\n      <th>2264</th>\n      <td>6tZmrNnFao9ofNviYqJwOH</td>\n      <td>UP! (feat. Chris Brown, Pleasure P) (R&amp;B Remix...</td>\n      <td>NaN</td>\n      <td>NaN</td>\n      <td>NaN</td>\n      <td>NaN</td>\n      <td>NaN</td>\n      <td>NaN</td>\n      <td>NaN</td>\n      <td>NaN</td>\n      <td>...</td>\n      <td>NaN</td>\n      <td>NaN</td>\n      <td>NaN</td>\n      <td>NaN</td>\n      <td>NaN</td>\n      <td>NaN</td>\n      <td>NaN</td>\n      <td>NaN</td>\n      <td>[{'external_urls': {'spotify': 'https://open.s...</td>\n      <td>https://p.scdn.co/mp3-preview/c4e11bca52a937fa...</td>\n    </tr>\n    <tr>\n      <th>2265</th>\n      <td>5YTM7OgQDt9EJAYcfHLniJ</td>\n      <td>Award Tour</td>\n      <td>NaN</td>\n      <td>NaN</td>\n      <td>NaN</td>\n      <td>NaN</td>\n      <td>NaN</td>\n      <td>NaN</td>\n      <td>NaN</td>\n      <td>NaN</td>\n      <td>...</td>\n      <td>NaN</td>\n      <td>NaN</td>\n      <td>NaN</td>\n      <td>NaN</td>\n      <td>NaN</td>\n      <td>NaN</td>\n      <td>NaN</td>\n      <td>NaN</td>\n      <td>[{'external_urls': {'spotify': 'https://open.s...</td>\n      <td>https://p.scdn.co/mp3-preview/091602d4440f4d4f...</td>\n    </tr>\n    <tr>\n      <th>2266</th>\n      <td>7IhsLJMqdxoo7YAZjaSMru</td>\n      <td>Dead And Gone</td>\n      <td>NaN</td>\n      <td>NaN</td>\n      <td>NaN</td>\n      <td>NaN</td>\n      <td>NaN</td>\n      <td>NaN</td>\n      <td>NaN</td>\n      <td>NaN</td>\n      <td>...</td>\n      <td>NaN</td>\n      <td>NaN</td>\n      <td>NaN</td>\n      <td>NaN</td>\n      <td>NaN</td>\n      <td>NaN</td>\n      <td>NaN</td>\n      <td>NaN</td>\n      <td>[{'external_urls': {'spotify': 'https://open.s...</td>\n      <td>https://p.scdn.co/mp3-preview/66fcdde9a21b8b63...</td>\n    </tr>\n  </tbody>\n</table>\n<p>2267 rows × 120 columns</p>\n</div>"
     },
     "metadata": {},
     "execution_count": 50
    }
   ],
   "source": [
    "master_df"
   ]
  },
  {
   "cell_type": "code",
   "execution_count": null,
   "metadata": {},
   "outputs": [],
   "source": []
  }
 ]
}