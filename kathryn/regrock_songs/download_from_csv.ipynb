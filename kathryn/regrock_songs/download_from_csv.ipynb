{
 "metadata": {
  "language_info": {
   "codemirror_mode": {
    "name": "ipython",
    "version": 3
   },
   "file_extension": ".py",
   "mimetype": "text/x-python",
   "name": "python",
   "nbconvert_exporter": "python",
   "pygments_lexer": "ipython3",
   "version": "3.6.10-final"
  },
  "orig_nbformat": 2,
  "kernelspec": {
   "name": "python_defaultSpec_1600452154063",
   "display_name": "Python 3.6.10 64-bit ('PythonDataViz': conda)"
  }
 },
 "nbformat": 4,
 "nbformat_minor": 2,
 "cells": [
  {
   "cell_type": "code",
   "execution_count": 16,
   "metadata": {},
   "outputs": [],
   "source": [
    "import pandas as pd\n",
    "import requests"
   ]
  },
  {
   "cell_type": "code",
   "execution_count": 17,
   "metadata": {},
   "outputs": [],
   "source": [
    "my_df=pd.read_csv(\"../reggaerock4.csv\")"
   ]
  },
  {
   "cell_type": "code",
   "execution_count": 18,
   "metadata": {},
   "outputs": [],
   "source": [
    "#########################\n",
    "#enter song urls in a loop\n",
    "##########################\n",
    "for index, data in my_df.iterrows():\n",
    "  \n",
    "# URL of the song to be downloaded is defined as song_url) \n",
    "    r = requests.get(data[3]) # create HTTP response object \n",
    "    name=data[1].lower()\n",
    "    genre=data[4].lower()\n",
    "    alphanumeric_filter = filter(str.isalnum, name)\n",
    "    clean_name=\"\".join(alphanumeric_filter)\n",
    "    # send a HTTP request to the server and save \n",
    "    # the HTTP response in a response object called r \n",
    "    #NOTE: We will want to label each song with real title as part of our loop\n",
    "    with open(f\"{genre}_{clean_name}.mp3\",'wb') as f:  \n",
    "    \n",
    "        # Saving received content as a png file in \n",
    "        # binary format \n",
    "    \n",
    "        # write the contents of the response (r.content) \n",
    "        # to a new file in binary mode. \n",
    "        f.write(r.content) "
   ]
  },
  {
   "cell_type": "code",
   "execution_count": null,
   "metadata": {},
   "outputs": [],
   "source": []
  }
 ]
}