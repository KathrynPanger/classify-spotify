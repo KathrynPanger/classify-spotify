{
 "metadata": {
  "language_info": {
   "codemirror_mode": {
    "name": "ipython",
    "version": 3
   },
   "file_extension": ".py",
   "mimetype": "text/x-python",
   "name": "python",
   "nbconvert_exporter": "python",
   "pygments_lexer": "ipython3",
   "version": "3.6.10-final"
  },
  "orig_nbformat": 2,
  "kernelspec": {
   "name": "python_defaultSpec_1600417252568",
   "display_name": "Python 3.6.10 64-bit ('PythonDataViz': conda)"
  }
 },
 "nbformat": 4,
 "nbformat_minor": 2,
 "cells": [
  {
   "cell_type": "code",
   "execution_count": 3,
   "metadata": {},
   "outputs": [],
   "source": [
    "import pandas as pd\n",
    "import requests"
   ]
  },
  {
   "cell_type": "code",
   "execution_count": 4,
   "metadata": {},
   "outputs": [],
   "source": [
    "my_df=pd.read_csv(\"../reggaerock.csv\")"
   ]
  },
  {
   "cell_type": "code",
   "execution_count": 14,
   "metadata": {},
   "outputs": [],
   "source": [
    "#########################\n",
    "#enter song urls in a loop\n",
    "##########################\n",
    "for index, data in my_df.iterrows():\n",
    "  \n",
    "# URL of the song to be downloaded is defined as song_url) \n",
    "    r = requests.get(data[3]) # create HTTP response object \n",
    "    name=data[1].lower()\n",
    "    alphanumeric_filter = filter(str.isalnum, name)\n",
    "    clean_name=\"\".join(alphanumeric_filter)\n",
    "    # send a HTTP request to the server and save \n",
    "    # the HTTP response in a response object called r \n",
    "    #NOTE: We will want to label each song with real title as part of our loop\n",
    "    with open(f\"{clean_name}.mp3\",'wb') as f:  \n",
    "    \n",
    "        # Saving received content as a png file in \n",
    "        # binary format \n",
    "    \n",
    "        # write the contents of the response (r.content) \n",
    "        # to a new file in binary mode. \n",
    "        f.write(r.content) "
   ]
  },
  {
   "cell_type": "code",
   "execution_count": 13,
   "metadata": {
    "tags": []
   },
   "outputs": [
    {
     "output_type": "stream",
     "name": "stdout",
     "text": "0\n0gmbgwZ8iqyMPmXefof8Yf\nHow You Remind Me\nNickelback\nhttps://p.scdn.co/mp3-preview/bce58ffc6c70e0fcf2f2c0228f794743a07569ab?cid=08267e6d9cb548b181e3feb69f0b85f3\n1\n5uPYEStMW3KsXnnLV7iCTw\nJohnny B. Goode - 2002 Remaster\nPeter Tosh\nhttps://p.scdn.co/mp3-preview/18c93830f1399f6ccf43cb28b80a85959d72642a?cid=08267e6d9cb548b181e3feb69f0b85f3\n2\n4czopM9AcLjrH4IunzRoBg\nZungguzungguguzungguzeng\nYellowman\nhttps://p.scdn.co/mp3-preview/ec7492b6606b7625d5fca12ad23b6785d030eee5?cid=08267e6d9cb548b181e3feb69f0b85f3\n3\n1CLUtToY6V0jn79UPtf5VA\nThe One You Know\nAlice In Chains\nhttps://p.scdn.co/mp3-preview/3cf5760fef6e17567004ff8f54d559a30697b670?cid=08267e6d9cb548b181e3feb69f0b85f3\n4\n2f0P7iELCvAlV8j6Z3rGDE\nStranglehold\nTed Nugent\nhttps://p.scdn.co/mp3-preview/0424c79f25eb29d13072c394fb6433532738ea32?cid=08267e6d9cb548b181e3feb69f0b85f3\n5\n64BbK9SFKH2jk86U3dGj2P\nOtherside\nRed Hot Chili Peppers\nhttps://p.scdn.co/mp3-preview/3dfe48540e8c8b3a4b3434837952a3aa5b9291e9?cid=08267e6d9cb548b181e3feb69f0b85f3\n6\n5JkbyYRxPW7Wg1evBIVDmK\nChant a Psalm\nSteel Pulse\nhttps://p.scdn.co/mp3-preview/c35a00479c2018939beab69c8c96d7552d74892e?cid=08267e6d9cb548b181e3feb69f0b85f3\n7\n2WW8QbArFbEB3VUA6EZwWb\nOne More Night\nStrictly The Best Vol. 40\nhttps://p.scdn.co/mp3-preview/7f97865db1a87f251ec575e3f8ed78bb99a6268f?cid=08267e6d9cb548b181e3feb69f0b85f3\n8\n2gRk5paar8fnT28Q6AsKTj\nMeadow\nStone Temple Pilots\nhttps://p.scdn.co/mp3-preview/9c496b197323d7b837456bb9aaba744c523d46cc?cid=08267e6d9cb548b181e3feb69f0b85f3\n9\n1vl5jVbo2INarbfx43KHjH\nCool and Calm\nIsrael Vibration\nhttps://p.scdn.co/mp3-preview/2ec65dd65d2cfab2d1e2bf3e1ebfb83a3c775264?cid=08267e6d9cb548b181e3feb69f0b85f3\n10\n50UpQeRX0Pebo76v3AK6S1\nGrey Goose\nCarousel Kings\nhttps://p.scdn.co/mp3-preview/3bb6f5860ed29732ad3213543ba92006d922fc68?cid=08267e6d9cb548b181e3feb69f0b85f3\n11\n4Gw1SXoN1MlAmdM3J1NjmR\nFound What I've Been Looking For\nTom Grennan\nhttps://p.scdn.co/mp3-preview/2a971d278f1eaedc4e08022f471180b05c7ecb9d?cid=08267e6d9cb548b181e3feb69f0b85f3\n12\n2w4EpqGasrz9qdTwocx54t\nOpen Arms\nJourney\nhttps://p.scdn.co/mp3-preview/cdba05161ad423f14cfed8dde4d602248f2454da?cid=08267e6d9cb548b181e3feb69f0b85f3\n13\n3oeicU1vhOHoySeNBhSUFv\nGyal Bruk Out\nAlkaline\nhttps://p.scdn.co/mp3-preview/af2ab26aeb7907581e41c10f79e902eda7a01753?cid=08267e6d9cb548b181e3feb69f0b85f3\n14\n5SehvGGC53A7SZKCLXQcyt\nNico and the Niners\nTwenty One Pilots\nhttps://p.scdn.co/mp3-preview/68f0ee687aa4830c067eb90bb404961af459f530?cid=08267e6d9cb548b181e3feb69f0b85f3\n15\n0snQkGI5qnAmohLE7jTsTn\nToxicity\nSystem Of A Down\nhttps://p.scdn.co/mp3-preview/89e93c71655e81579d011e4521f7b6e9db173834?cid=08267e6d9cb548b181e3feb69f0b85f3\n16\n3879mOevyI1RNKonloSaz0\nLioness On The Rise\nQueen Ifrica\nhttps://p.scdn.co/mp3-preview/647f3942bc544fd9c735ae23b46eb7132caf82dc?cid=08267e6d9cb548b181e3feb69f0b85f3\n17\n4yf5YQEy4sfkRtfuNVLPJ6\nI Am Blessed\nMr. Vegas\nhttps://p.scdn.co/mp3-preview/ad218223b4f6cef484a2714f34c36cd940360cbc?cid=08267e6d9cb548b181e3feb69f0b85f3\n18\n44wXefe8WB9Fd6xwtmAwbR\nMonkey Wrench\nFoo Fighters\nhttps://p.scdn.co/mp3-preview/7f98be705f7db05e0c3e291d80bb158124983232?cid=08267e6d9cb548b181e3feb69f0b85f3\n19\n1OR5HVQgKpCZn2JNIwTKmq\nRude Boy\nDub Inc.\nhttps://p.scdn.co/mp3-preview/d3557b8a91946d48bab878f43e288e9a25c7381b?cid=08267e6d9cb548b181e3feb69f0b85f3\n20\n5Z5nbOXhsSbySVC7WUc6y9\nFour Out Of Five\nArctic Monkeys\nhttps://p.scdn.co/mp3-preview/50649285856b2324b33046c6b1e03172ee90e808?cid=08267e6d9cb548b181e3feb69f0b85f3\n21\n63KyUtr8jbXnuI7e7XRpjq\nLucky One (feat. K.Flay)\nTom Morello\nhttps://p.scdn.co/mp3-preview/9b97accc3f0b784fce5452d62d1957016243d5af?cid=08267e6d9cb548b181e3feb69f0b85f3\n22\n1UOhKnE2fZJuGdB7ssn9nf\nHerbalist\nAlborosie\nhttps://p.scdn.co/mp3-preview/0a8a885a27bd773893519ebd6926be68ec18de22?cid=08267e6d9cb548b181e3feb69f0b85f3\n23\n0m9xl23pyUMGrxwP1YdSe2\nTaipei Person / Allah Tea\nStone Sour\nhttps://p.scdn.co/mp3-preview/0c3ac977982888101b449352f5dd7d7c5ac2ce71?cid=08267e6d9cb548b181e3feb69f0b85f3\n24\n0yTJtxZJ5VLfBEHhiNUNeY\nSilvertongue\nYoung the Giant\nhttps://p.scdn.co/mp3-preview/30cb1754607b7940fd845750c6793fd990464163?cid=08267e6d9cb548b181e3feb69f0b85f3\n25\n0cSkIGgh1uICEIcmEb1niw\nRasta Love Feat. Ky-Mani Marley\nProtoje\nhttps://p.scdn.co/mp3-preview/3c86940874cbb7327f725c91011cb6b5dd23e520?cid=08267e6d9cb548b181e3feb69f0b85f3\n26\n6RJdYpFQwLyNfDc5FbjkgV\nStricken\nDisturbed\nhttps://p.scdn.co/mp3-preview/b9f5206810d127442c4b5d4f2d9c9dd2027a082d?cid=08267e6d9cb548b181e3feb69f0b85f3\n27\n4YyOPaXcxCmpv3c7SQUo5e\nRaining\nThe Front Bottoms\nhttps://p.scdn.co/mp3-preview/170344970c47488cc22abb9f9da515369ae869f4?cid=08267e6d9cb548b181e3feb69f0b85f3\n28\n39knzsFcBOEpv7dSGrIilV\nIntoxication\nGentleman\nhttps://p.scdn.co/mp3-preview/5866d55b3cf83ea6f1e2e33812f6db34161fab1b?cid=08267e6d9cb548b181e3feb69f0b85f3\n29\n16XeptMdlJTWWeIrwEAOvv\nOld Man - 2009 Remaster\nNeil Young\nhttps://p.scdn.co/mp3-preview/333fbf428fef25374d89cb2904ed224696c96728?cid=08267e6d9cb548b181e3feb69f0b85f3\n30\n39shmbIHICJ2Wxnk1fPSdz\nShould I Stay or Should I Go - Remastered\nThe Clash\nhttps://p.scdn.co/mp3-preview/670a419f7cb549ef6d3d7f9c5060ac6b8c112fa4?cid=08267e6d9cb548b181e3feb69f0b85f3\n31\n0pxcNdPoPlfGrf2rwIgiBy\nCriminal\nProtoje\nhttps://p.scdn.co/mp3-preview/a5e5d1238b11871687b15de357263eb2edff50a7?cid=08267e6d9cb548b181e3feb69f0b85f3\n32\n66hOCG7IpEJI5wfLDhajxD\nLast Young Renegade\nAll Time Low\nhttps://p.scdn.co/mp3-preview/d29b54667e2683db77bedbfda9027702653eebb2?cid=08267e6d9cb548b181e3feb69f0b85f3\n33\n2eOlCbpQQIy6aRNHV9hg3o\nWhat a Feeling - From \"Flashdance\"\nThe Sailors\nhttps://p.scdn.co/mp3-preview/b21b769ae9f092fe6e1d675d9333009e0aeacea6?cid=08267e6d9cb548b181e3feb69f0b85f3\n34\n6Bpq3eILwWDjK4nK9qtwPv\nSmoke My Herbz\nVarious Artists\nhttps://p.scdn.co/mp3-preview/2e08864bd6adfd5ec7599c8cf33a10cf23343301?cid=08267e6d9cb548b181e3feb69f0b85f3\n35\n3Gym3Rtm6FHpTrLlJTcz3j\nWorld A Reggae Music\nAnthony B\nhttps://p.scdn.co/mp3-preview/97ff2073f5008bd378e52af9eceec6a2254c7150?cid=08267e6d9cb548b181e3feb69f0b85f3\n36\n5fEdhl7z32TMambRUvGShQ\nAugust Town\nDuane Stephenson\nhttps://p.scdn.co/mp3-preview/ef90d290c771df1897994339675fbcbf03a9bbd8?cid=08267e6d9cb548b181e3feb69f0b85f3\n37\n67L36FEtnci1yguR5s514G\nAmputation\nThe Jesus and Mary Chain\nhttps://p.scdn.co/mp3-preview/b142490f9b55606632016d09b6b84a1e2e3a4d32?cid=08267e6d9cb548b181e3feb69f0b85f3\n38\n5hAOJvfhTB07VcFhno9EY1\nIf Love So Nice\nVarious Artists\nhttps://p.scdn.co/mp3-preview/e0ee41322e8e3c7f067685cc71c360d7d43b83e0?cid=08267e6d9cb548b181e3feb69f0b85f3\n39\n0ADZ5dmXhlfzjMw6lefoPl\nFar Away\nNickelback\nhttps://p.scdn.co/mp3-preview/ee5ef1ff3c6c82863e00c2f29775d16af8c22b37?cid=08267e6d9cb548b181e3feb69f0b85f3\n40\n5h27GYpKZWWhFov8fOunF6\nWhat Went Down\nFoals\nhttps://p.scdn.co/mp3-preview/96767c9c15c78605741a3907c5d20ae0ef57b234?cid=08267e6d9cb548b181e3feb69f0b85f3\n41\n2JCv3LADgWrOcJoOa0so6m\nWhere's the Revolution\nDepeche Mode\nhttps://p.scdn.co/mp3-preview/2a81fa73a7814fa346faadd0845fc597ef169cc8?cid=08267e6d9cb548b181e3feb69f0b85f3\n"
    }
   ],
   "source": [
    "for index, data in my_df.iterrows():\n",
    "    print(index)\n",
    "    print(data[0])\n",
    "    print(data[1])\n",
    "    print(data[2])\n",
    "    print(data[3])"
   ]
  },
  {
   "cell_type": "code",
   "execution_count": 32,
   "metadata": {},
   "outputs": [
    {
     "output_type": "error",
     "ename": "TypeError",
     "evalue": "'generator' object is not subscriptable",
     "traceback": [
      "\u001b[1;31m---------------------------------------------------------------------------\u001b[0m",
      "\u001b[1;31mTypeError\u001b[0m                                 Traceback (most recent call last)",
      "\u001b[1;32m<ipython-input-32-e068fe0cb363>\u001b[0m in \u001b[0;36m<module>\u001b[1;34m\u001b[0m\n\u001b[1;32m----> 1\u001b[1;33m \u001b[0mmy_df\u001b[0m\u001b[1;33m.\u001b[0m\u001b[0miterrows\u001b[0m\u001b[1;33m(\u001b[0m\u001b[1;33m)\u001b[0m\u001b[1;33m[\u001b[0m\u001b[1;36m1\u001b[0m\u001b[1;33m]\u001b[0m\u001b[1;33m\u001b[0m\u001b[1;33m\u001b[0m\u001b[0m\n\u001b[0m",
      "\u001b[1;31mTypeError\u001b[0m: 'generator' object is not subscriptable"
     ]
    }
   ],
   "source": [
    "my_df.iterrows()[0]"
   ]
  },
  {
   "cell_type": "code",
   "execution_count": 36,
   "metadata": {},
   "outputs": [
    {
     "output_type": "error",
     "ename": "TypeError",
     "evalue": "int() argument must be a string, a bytes-like object or a number, not 'builtin_function_or_method'",
     "traceback": [
      "\u001b[1;31m---------------------------------------------------------------------------\u001b[0m",
      "\u001b[1;31mTypeError\u001b[0m                                 Traceback (most recent call last)",
      "\u001b[1;32m<ipython-input-36-865edc4b24e7>\u001b[0m in \u001b[0;36m<module>\u001b[1;34m\u001b[0m\n\u001b[1;32m----> 1\u001b[1;33m \u001b[0mint\u001b[0m\u001b[1;33m(\u001b[0m\u001b[0murl\u001b[0m\u001b[1;33m.\u001b[0m\u001b[0mindex\u001b[0m\u001b[1;33m)\u001b[0m\u001b[1;33m\u001b[0m\u001b[1;33m\u001b[0m\u001b[0m\n\u001b[0m",
      "\u001b[1;31mTypeError\u001b[0m: int() argument must be a string, a bytes-like object or a number, not 'builtin_function_or_method'"
     ]
    }
   ],
   "source": []
  },
  {
   "cell_type": "code",
   "execution_count": null,
   "metadata": {},
   "outputs": [],
   "source": [
    "def preprocess(dataset_path,json_path,\n",
    "               num_mfcc=13,n_fft=2048,hop_length=512,\n",
    "               num_segment=5):\n",
    "    data = {\n",
    "            \"mapping\": [],\n",
    "            \"labels\": [],\n",
    "            \"mfcc\": []\n",
    "    }\n",
    "    samples_per_segment = int(samples_per_track / num_segment)\n",
    "    num_mfcc_vectors_per_segment = math.ceil(samples_per_segment / \n",
    "                                             hop_length)\n",
    "    for i, (dirpath,dirnames,filenames) in   \n",
    "            enumerate(os.walk(dataset_path)):\n",
    "        if dirpath != dataset_path:\n",
    "            #Adding all the labels\n",
    "            label = str(dirpath).split('\\\\')[-1]\n",
    "            data[\"mapping\"].append(label)\n",
    "            #Going through each song within a label\n",
    "            for f in filenames:\n",
    "                file_path = dataset_path +\"/\" + str(label) + \"/\" + \n",
    "                            str(f)\n",
    "                y, sr = librosa.load(file_path, sr = sample_rate)\n",
    "                #Cutting each song into 10 segments\n",
    "                for n in range(num_segment):\n",
    "                    start = samples_per_segment * n\n",
    "                    finish = start + samples_per_segment\n",
    "                    #print(start,finish)\n",
    "                    mfcc = librosa.feature.mfcc(y[start:finish], \n",
    "                           sample_rate, n_mfcc = num_mfcc, \n",
    "                           n_fft = n_fft, hop_length = hop_length)\n",
    "                    mfcc = mfcc.T #259 x 13\n",
    "                    #Making sure if\n",
    "                    if len(mfcc) == num_mfcc_vectors_per_segment:\n",
    "                        data[\"mfcc\"].append(mfcc.tolist())\n",
    "                        data[\"labels\"].append(i-1)\n",
    "                        print(\"Track Name \", file_path, n+1)\n",
    "    with open(json_path, \"w\") as fp:\n",
    "        json.dump(data, fp, indent = 4)"
   ]
  }
 ]
}