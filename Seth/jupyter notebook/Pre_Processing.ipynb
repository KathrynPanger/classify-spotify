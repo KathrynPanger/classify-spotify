{
  "nbformat": 4,
  "nbformat_minor": 0,
  "metadata": {
    "colab": {
      "name": "Pre-Processing.ipynb",
      "provenance": [],
      "collapsed_sections": []
    },
    "kernelspec": {
      "name": "python3",
      "display_name": "Python 3"
    }
  },
  "cells": [
    {
      "cell_type": "code",
      "metadata": {
        "id": "sO5v7R8HWdTW",
        "colab_type": "code",
        "colab": {
          "base_uri": "https://localhost:8080/",
          "height": 35
        },
        "outputId": "97da7d43-abcb-4bbd-8564-720af4daf229"
      },
      "source": [
        "from google.colab import drive\n",
        "drive.mount('/content/drive')"
      ],
      "execution_count": 1,
      "outputs": [
        {
          "output_type": "stream",
          "text": [
            "Drive already mounted at /content/drive; to attempt to forcibly remount, call drive.mount(\"/content/drive\", force_remount=True).\n"
          ],
          "name": "stdout"
        }
      ]
    },
    {
      "cell_type": "code",
      "metadata": {
        "id": "kubynOK49K9B",
        "colab_type": "code",
        "colab": {}
      },
      "source": [
        "import librosa\n",
        "import IPython.display as ipd\n",
        "import skimage\n",
        "import numpy as np\n",
        "from skimage import io\n",
        "import matplotlib.pyplot as plt\n",
        "import librosa.display\n",
        "import sklearn\n",
        "import pandas as pd\n",
        "from librosa.core import istft\n",
        "\n",
        "\n",
        "#*************settings for png output (only for CNN)******************\n",
        "# hop length = number of samples per time-step in spectrogram\n",
        "#hop_length = 512\n",
        "\n",
        "# number of time-steps. (Width of spectogram/png)\n",
        "#time_steps = 384\n",
        "\n",
        "#length_samples = time_steps*hop_length\n",
        "\n",
        "# n_fft = 2048\n",
        "#*********************************************************************"
      ],
      "execution_count": 2,
      "outputs": []
    },
    {
      "cell_type": "code",
      "metadata": {
        "id": "vCnXd2KPM1oW",
        "colab_type": "code",
        "colab": {
          "base_uri": "https://localhost:8080/",
          "height": 555
        },
        "outputId": "ede4683d-708f-46df-a2a4-ec59524b8df9"
      },
      "source": [
        "#create base dataframe with column headings\n",
        "basedata = {\"Genre\":[]}\n",
        "\n",
        "\n",
        "#create slot for each mfcc value in dictionary\n",
        "for i in range(0,30):\n",
        "  mfcc_title = f\"mfcc({i})\"\n",
        "  mfcc_value = []\n",
        "  basedata[mfcc_title] = mfcc_value\n",
        "\n",
        "basedata"
      ],
      "execution_count": 3,
      "outputs": [
        {
          "output_type": "execute_result",
          "data": {
            "text/plain": [
              "{'Genre': [],\n",
              " 'mfcc(0)': [],\n",
              " 'mfcc(1)': [],\n",
              " 'mfcc(10)': [],\n",
              " 'mfcc(11)': [],\n",
              " 'mfcc(12)': [],\n",
              " 'mfcc(13)': [],\n",
              " 'mfcc(14)': [],\n",
              " 'mfcc(15)': [],\n",
              " 'mfcc(16)': [],\n",
              " 'mfcc(17)': [],\n",
              " 'mfcc(18)': [],\n",
              " 'mfcc(19)': [],\n",
              " 'mfcc(2)': [],\n",
              " 'mfcc(20)': [],\n",
              " 'mfcc(21)': [],\n",
              " 'mfcc(22)': [],\n",
              " 'mfcc(23)': [],\n",
              " 'mfcc(24)': [],\n",
              " 'mfcc(25)': [],\n",
              " 'mfcc(26)': [],\n",
              " 'mfcc(27)': [],\n",
              " 'mfcc(28)': [],\n",
              " 'mfcc(29)': [],\n",
              " 'mfcc(3)': [],\n",
              " 'mfcc(4)': [],\n",
              " 'mfcc(5)': [],\n",
              " 'mfcc(6)': [],\n",
              " 'mfcc(7)': [],\n",
              " 'mfcc(8)': [],\n",
              " 'mfcc(9)': []}"
            ]
          },
          "metadata": {
            "tags": []
          },
          "execution_count": 3
        }
      ]
    },
    {
      "cell_type": "code",
      "metadata": {
        "id": "-b5yQMacM4nr",
        "colab_type": "code",
        "colab": {}
      },
      "source": [
        "#create function that defines scale of spectogram\n",
        "def scale_minmax(X, min=0.0, max=1.0):\n",
        "    X_std = (X - X.min()) / (X.max() - X.min())\n",
        "    X_scaled = X_std * (max - min) + min\n",
        "    return X_scaled"
      ],
      "execution_count": 4,
      "outputs": []
    },
    {
      "cell_type": "code",
      "metadata": {
        "id": "-jO9EH3ogonv",
        "colab_type": "code",
        "colab": {}
      },
      "source": [
        "#create function for spectogram plot without visualization (for performance purposes)\n",
        "def create_spec(file):\n",
        "\n",
        "  x , sr = librosa.load(file, mono=True)\n",
        "  #samples per track is sample rate (sr)*song length in seconds\n",
        "\n",
        "  #samples per segment is samples per track sliced into equal parts\n",
        "  #in this case song length is 30sec and we are slicing into 30 parts\n",
        "  #So in this case, our samples per segment is equal to our sample rate\n",
        "\n",
        "\n",
        "\n",
        "  sps = sr\n",
        "  spt = sr*30\n",
        "  global basedata\n",
        "\n",
        "  basedata[\"Genre\"].append(\"rock\")\n",
        "\n",
        "  \n",
        "#Break song into 30 equal segments, each 1 second long, and loop through\n",
        "  for i in range(0,30):\n",
        "    start2=sr*i\n",
        "    X2 = x[(start2):(start2+sr)]\n",
        "\n",
        "    #convert scale form hz to decibels\n",
        "    X = librosa.stft(X2)\n",
        "    Xdb = librosa.amplitude_to_db(abs(X))\n",
        "\n",
        "    \n",
        "\n",
        "\n",
        "    \n",
        "    # #find spectral centroid value\n",
        "    #\"Center of mass of sound\" I am assuming this is mostly where the sound lies\n",
        "    spectral_centroids = librosa.feature.spectral_centroid(X2,  sr=sr)\n",
        "    sc_title = f\"Spectral Centroid({i})\"\n",
        "    sc_value = np.mean([spectral_centroids])\n",
        "    basedata[sc_title] = sc_value\n",
        "    \n",
        "\n",
        "\n",
        "    # #Compute root mean square energy\n",
        "    rmse = librosa.feature.rmse(X2)\n",
        "    rsme_title = f\"RSME({i})\"\n",
        "    rsme_value = np.mean([rmse])\n",
        "    basedata[rsme_title] = rsme_value\n",
        "\n",
        "\n",
        "    #find spectral rolloff value\n",
        "    #measures how often high frequencies(peaks) reduce to zero\n",
        "    spectral_rolloff = librosa.feature.spectral_rolloff(X2, sr=sr)\n",
        "    sr_title = f\"Spectral Rolloff({i})\"\n",
        "    sr_value = np.mean([spectral_rolloff])\n",
        "    basedata[sr_title] = sr_value\n",
        "\n",
        "\n",
        "    # #find spectral bandwith value\n",
        "    #spectral bandwidth is defined as the width of the band of light at one-half the peak maximum \n",
        "    spectral_bandwidth = librosa.feature.spectral_bandwidth(X2, sr=sr)\n",
        "    sb_title = f\"Spectral Bandwidth({i})\"\n",
        "    sb_value = np.mean([spectral_bandwidth])\n",
        "    basedata[sb_title] = sb_value\n",
        "    \n",
        "\n",
        "    # #find zero crossing rate value\n",
        "    #calculates the smoothness of a signal, typically higher in rock/metal music\n",
        "    zcr = librosa.feature.zero_crossing_rate(X2)\n",
        "    zcr_title = f\"Zero-Crossing Rate({i})\"\n",
        "    zcr_value = np.mean([zcr])\n",
        "    basedata[zcr_title] = zcr_value\n",
        "  \n",
        "\n",
        "    # #find Chroma feature value\n",
        "    #how much energy of each pitch class is present\n",
        "    chromagram = librosa.feature.chroma_stft(X2, sr=sr)\n",
        "    # # print(chromagram)\n",
        "    cf_title = f\"Chroma Feature({i})\"\n",
        "    cf_value = np.mean([chromagram])\n",
        "    basedata[cf_title] = cf_value\n",
        "  \n",
        "\n",
        "#Break song into 30 equal segments, each 1 second long, and loop through (with different settings)\n",
        "  for i in range(0,30):\n",
        "      start_sample=sr*i\n",
        "      window = x[(start_sample):(start_sample+sr)]\n",
        "      X = librosa.stft(window)\n",
        "      Xdb = librosa.amplitude_to_db(abs(X))\n",
        "      Xdb = istft(Xdb)\n",
        "\n",
        "      \n",
        "      #find Mel frequency cepstral coefficients\n",
        "      #which are the measure in peaks of sound in a given segment\n",
        "      mfcc = librosa.feature.mfcc(window, sr)\n",
        "      mfcc = mfcc.T\n",
        "      mfcc_title = f\"mfcc({i})\"\n",
        "      # print(mfcc[i])\n",
        "      mfcc_value = [mfcc[i]]\n",
        "      basedata[mfcc_title].append(np.mean(mfcc_value))\n",
        "\n",
        "\n",
        "  ##*****In case we use CNN later******************\n",
        "\n",
        "  # plt.figure(figsize=(14, 5))\n",
        "  # librosa.display.specshow(Xdb, sr=sr, x_axis='time', y_axis='hz')\n",
        "  # plt.colorbar()\n",
        "\n",
        "  ##scale png image to 8 bit\n",
        "  #img = scale_minmax(Xdb, 0, 255).astype(numpy.uint8)\n",
        "  ##put x axis at \"0\"\n",
        "  #img = numpy.flip(img, axis=0) \n",
        "  ##invert image to black== machine learning is colorblind apparently\n",
        "  #img = 255-img\n",
        "  ##save as PNG \n",
        "  #skimage.io.imsave(\"out.png\", img)\n",
        "\n"
      ],
      "execution_count": 5,
      "outputs": []
    },
    {
      "cell_type": "code",
      "metadata": {
        "id": "giPg1Um4GKvF",
        "colab_type": "code",
        "colab": {
          "base_uri": "https://localhost:8080/",
          "height": 363
        },
        "outputId": "af00a819-b96d-440f-c881-07bff841c892"
      },
      "source": [
        "import glob\n",
        "\n",
        "for file in glob.iglob(r'drive/My Drive/FinalDataProject/rock_mp3/*.mp3'): #<path to directory with mp3s in it>\n",
        "    create_spec(file)\n",
        "\n"
      ],
      "execution_count": 6,
      "outputs": [
        {
          "output_type": "error",
          "ename": "KeyboardInterrupt",
          "evalue": "ignored",
          "traceback": [
            "\u001b[0;31m---------------------------------------------------------------------------\u001b[0m",
            "\u001b[0;31mKeyboardInterrupt\u001b[0m                         Traceback (most recent call last)",
            "\u001b[0;32m<ipython-input-6-b1183d967390>\u001b[0m in \u001b[0;36m<module>\u001b[0;34m()\u001b[0m\n\u001b[1;32m      2\u001b[0m \u001b[0;34m\u001b[0m\u001b[0m\n\u001b[1;32m      3\u001b[0m \u001b[0;32mfor\u001b[0m \u001b[0mfile\u001b[0m \u001b[0;32min\u001b[0m \u001b[0mglob\u001b[0m\u001b[0;34m.\u001b[0m\u001b[0miglob\u001b[0m\u001b[0;34m(\u001b[0m\u001b[0;34mr'drive/My Drive/FinalDataProject/rock_mp3/*.mp3'\u001b[0m\u001b[0;34m)\u001b[0m\u001b[0;34m:\u001b[0m \u001b[0;31m#<path to directory with mp3s in it>\u001b[0m\u001b[0;34m\u001b[0m\u001b[0;34m\u001b[0m\u001b[0m\n\u001b[0;32m----> 4\u001b[0;31m     \u001b[0mcreate_spec\u001b[0m\u001b[0;34m(\u001b[0m\u001b[0mfile\u001b[0m\u001b[0;34m)\u001b[0m\u001b[0;34m\u001b[0m\u001b[0;34m\u001b[0m\u001b[0m\n\u001b[0m\u001b[1;32m      5\u001b[0m \u001b[0;34m\u001b[0m\u001b[0m\n",
            "\u001b[0;32m<ipython-input-5-78ae14b31151>\u001b[0m in \u001b[0;36mcreate_spec\u001b[0;34m(file)\u001b[0m\n\u001b[1;32m      2\u001b[0m \u001b[0;32mdef\u001b[0m \u001b[0mcreate_spec\u001b[0m\u001b[0;34m(\u001b[0m\u001b[0mfile\u001b[0m\u001b[0;34m)\u001b[0m\u001b[0;34m:\u001b[0m\u001b[0;34m\u001b[0m\u001b[0;34m\u001b[0m\u001b[0m\n\u001b[1;32m      3\u001b[0m \u001b[0;34m\u001b[0m\u001b[0m\n\u001b[0;32m----> 4\u001b[0;31m   \u001b[0mx\u001b[0m \u001b[0;34m,\u001b[0m \u001b[0msr\u001b[0m \u001b[0;34m=\u001b[0m \u001b[0mlibrosa\u001b[0m\u001b[0;34m.\u001b[0m\u001b[0mload\u001b[0m\u001b[0;34m(\u001b[0m\u001b[0mfile\u001b[0m\u001b[0;34m,\u001b[0m \u001b[0mmono\u001b[0m\u001b[0;34m=\u001b[0m\u001b[0;32mTrue\u001b[0m\u001b[0;34m)\u001b[0m\u001b[0;34m\u001b[0m\u001b[0;34m\u001b[0m\u001b[0m\n\u001b[0m\u001b[1;32m      5\u001b[0m   \u001b[0;31m#samples per track is sample rate (sr)*song length in seconds\u001b[0m\u001b[0;34m\u001b[0m\u001b[0;34m\u001b[0m\u001b[0;34m\u001b[0m\u001b[0m\n\u001b[1;32m      6\u001b[0m \u001b[0;34m\u001b[0m\u001b[0m\n",
            "\u001b[0;32m/usr/local/lib/python3.6/dist-packages/librosa/core/audio.py\u001b[0m in \u001b[0;36mload\u001b[0;34m(path, sr, mono, offset, duration, dtype, res_type)\u001b[0m\n\u001b[1;32m    165\u001b[0m \u001b[0;34m\u001b[0m\u001b[0m\n\u001b[1;32m    166\u001b[0m         \u001b[0;32mif\u001b[0m \u001b[0msr\u001b[0m \u001b[0;32mis\u001b[0m \u001b[0;32mnot\u001b[0m \u001b[0;32mNone\u001b[0m\u001b[0;34m:\u001b[0m\u001b[0;34m\u001b[0m\u001b[0;34m\u001b[0m\u001b[0m\n\u001b[0;32m--> 167\u001b[0;31m             \u001b[0my\u001b[0m \u001b[0;34m=\u001b[0m \u001b[0mresample\u001b[0m\u001b[0;34m(\u001b[0m\u001b[0my\u001b[0m\u001b[0;34m,\u001b[0m \u001b[0msr_native\u001b[0m\u001b[0;34m,\u001b[0m \u001b[0msr\u001b[0m\u001b[0;34m,\u001b[0m \u001b[0mres_type\u001b[0m\u001b[0;34m=\u001b[0m\u001b[0mres_type\u001b[0m\u001b[0;34m)\u001b[0m\u001b[0;34m\u001b[0m\u001b[0;34m\u001b[0m\u001b[0m\n\u001b[0m\u001b[1;32m    168\u001b[0m \u001b[0;34m\u001b[0m\u001b[0m\n\u001b[1;32m    169\u001b[0m         \u001b[0;32melse\u001b[0m\u001b[0;34m:\u001b[0m\u001b[0;34m\u001b[0m\u001b[0;34m\u001b[0m\u001b[0m\n",
            "\u001b[0;32m/usr/local/lib/python3.6/dist-packages/librosa/core/audio.py\u001b[0m in \u001b[0;36mresample\u001b[0;34m(y, orig_sr, target_sr, res_type, fix, scale, **kwargs)\u001b[0m\n\u001b[1;32m    291\u001b[0m         \u001b[0my_hat\u001b[0m \u001b[0;34m=\u001b[0m \u001b[0mscipy\u001b[0m\u001b[0;34m.\u001b[0m\u001b[0msignal\u001b[0m\u001b[0;34m.\u001b[0m\u001b[0mresample\u001b[0m\u001b[0;34m(\u001b[0m\u001b[0my\u001b[0m\u001b[0;34m,\u001b[0m \u001b[0mn_samples\u001b[0m\u001b[0;34m,\u001b[0m \u001b[0maxis\u001b[0m\u001b[0;34m=\u001b[0m\u001b[0;34m-\u001b[0m\u001b[0;36m1\u001b[0m\u001b[0;34m)\u001b[0m\u001b[0;34m\u001b[0m\u001b[0;34m\u001b[0m\u001b[0m\n\u001b[1;32m    292\u001b[0m     \u001b[0;32melse\u001b[0m\u001b[0;34m:\u001b[0m\u001b[0;34m\u001b[0m\u001b[0;34m\u001b[0m\u001b[0m\n\u001b[0;32m--> 293\u001b[0;31m         \u001b[0my_hat\u001b[0m \u001b[0;34m=\u001b[0m \u001b[0mresampy\u001b[0m\u001b[0;34m.\u001b[0m\u001b[0mresample\u001b[0m\u001b[0;34m(\u001b[0m\u001b[0my\u001b[0m\u001b[0;34m,\u001b[0m \u001b[0morig_sr\u001b[0m\u001b[0;34m,\u001b[0m \u001b[0mtarget_sr\u001b[0m\u001b[0;34m,\u001b[0m \u001b[0mfilter\u001b[0m\u001b[0;34m=\u001b[0m\u001b[0mres_type\u001b[0m\u001b[0;34m,\u001b[0m \u001b[0maxis\u001b[0m\u001b[0;34m=\u001b[0m\u001b[0;34m-\u001b[0m\u001b[0;36m1\u001b[0m\u001b[0;34m)\u001b[0m\u001b[0;34m\u001b[0m\u001b[0;34m\u001b[0m\u001b[0m\n\u001b[0m\u001b[1;32m    294\u001b[0m \u001b[0;34m\u001b[0m\u001b[0m\n\u001b[1;32m    295\u001b[0m     \u001b[0;32mif\u001b[0m \u001b[0mfix\u001b[0m\u001b[0;34m:\u001b[0m\u001b[0;34m\u001b[0m\u001b[0;34m\u001b[0m\u001b[0m\n",
            "\u001b[0;32m/usr/local/lib/python3.6/dist-packages/resampy/core.py\u001b[0m in \u001b[0;36mresample\u001b[0;34m(x, sr_orig, sr_new, axis, filter, **kwargs)\u001b[0m\n\u001b[1;32m    118\u001b[0m     \u001b[0mx_2d\u001b[0m \u001b[0;34m=\u001b[0m \u001b[0mx\u001b[0m\u001b[0;34m.\u001b[0m\u001b[0mswapaxes\u001b[0m\u001b[0;34m(\u001b[0m\u001b[0;36m0\u001b[0m\u001b[0;34m,\u001b[0m \u001b[0maxis\u001b[0m\u001b[0;34m)\u001b[0m\u001b[0;34m.\u001b[0m\u001b[0mreshape\u001b[0m\u001b[0;34m(\u001b[0m\u001b[0;34m(\u001b[0m\u001b[0mx\u001b[0m\u001b[0;34m.\u001b[0m\u001b[0mshape\u001b[0m\u001b[0;34m[\u001b[0m\u001b[0maxis\u001b[0m\u001b[0;34m]\u001b[0m\u001b[0;34m,\u001b[0m \u001b[0;34m-\u001b[0m\u001b[0;36m1\u001b[0m\u001b[0;34m)\u001b[0m\u001b[0;34m)\u001b[0m\u001b[0;34m\u001b[0m\u001b[0;34m\u001b[0m\u001b[0m\n\u001b[1;32m    119\u001b[0m     \u001b[0my_2d\u001b[0m \u001b[0;34m=\u001b[0m \u001b[0my\u001b[0m\u001b[0;34m.\u001b[0m\u001b[0mswapaxes\u001b[0m\u001b[0;34m(\u001b[0m\u001b[0;36m0\u001b[0m\u001b[0;34m,\u001b[0m \u001b[0maxis\u001b[0m\u001b[0;34m)\u001b[0m\u001b[0;34m.\u001b[0m\u001b[0mreshape\u001b[0m\u001b[0;34m(\u001b[0m\u001b[0;34m(\u001b[0m\u001b[0my\u001b[0m\u001b[0;34m.\u001b[0m\u001b[0mshape\u001b[0m\u001b[0;34m[\u001b[0m\u001b[0maxis\u001b[0m\u001b[0;34m]\u001b[0m\u001b[0;34m,\u001b[0m \u001b[0;34m-\u001b[0m\u001b[0;36m1\u001b[0m\u001b[0;34m)\u001b[0m\u001b[0;34m)\u001b[0m\u001b[0;34m\u001b[0m\u001b[0;34m\u001b[0m\u001b[0m\n\u001b[0;32m--> 120\u001b[0;31m     \u001b[0mresample_f\u001b[0m\u001b[0;34m(\u001b[0m\u001b[0mx_2d\u001b[0m\u001b[0;34m,\u001b[0m \u001b[0my_2d\u001b[0m\u001b[0;34m,\u001b[0m \u001b[0msample_ratio\u001b[0m\u001b[0;34m,\u001b[0m \u001b[0minterp_win\u001b[0m\u001b[0;34m,\u001b[0m \u001b[0minterp_delta\u001b[0m\u001b[0;34m,\u001b[0m \u001b[0mprecision\u001b[0m\u001b[0;34m)\u001b[0m\u001b[0;34m\u001b[0m\u001b[0;34m\u001b[0m\u001b[0m\n\u001b[0m\u001b[1;32m    121\u001b[0m \u001b[0;34m\u001b[0m\u001b[0m\n\u001b[1;32m    122\u001b[0m     \u001b[0;32mreturn\u001b[0m \u001b[0my\u001b[0m\u001b[0;34m\u001b[0m\u001b[0;34m\u001b[0m\u001b[0m\n",
            "\u001b[0;31mKeyboardInterrupt\u001b[0m: "
          ]
        }
      ]
    },
    {
      "cell_type": "code",
      "metadata": {
        "id": "GY5Hezt6pgzo",
        "colab_type": "code",
        "colab": {}
      },
      "source": [
        "\n",
        "# print(basedata)\n",
        "base_df = pd.DataFrame(basedata)\n",
        "base_df\n"
      ],
      "execution_count": null,
      "outputs": []
    },
    {
      "cell_type": "code",
      "metadata": {
        "id": "9_YtY0-yLA_4",
        "colab_type": "code",
        "colab": {}
      },
      "source": [
        "base_df.to_csv('drive/My Drive/FinalDataProject/Machine/rock_machine2.csv', index=False)\n"
      ],
      "execution_count": null,
      "outputs": []
    },
    {
      "cell_type": "code",
      "metadata": {
        "id": "2lbNcPQhAiO5",
        "colab_type": "code",
        "colab": {}
      },
      "source": [
        "blues = pd.read_csv(\"drive/My Drive/FinalDataProject/Machine/blues_machine2.csv\")\n",
        "classical = pd.read_csv(\"drive/My Drive/FinalDataProject/Machine/classical_machine2.csv\")\n",
        "country = pd.read_csv(\"drive/My Drive/FinalDataProject/Machine/country_machine2.csv\")\n",
        "disco = pd.read_csv(\"drive/My Drive/FinalDataProject/Machine/disco_machine2.csv\")\n",
        "h_metal = pd.read_csv(\"drive/My Drive/FinalDataProject/Machine/h_metal_machine2.csv\")\n",
        "hiphop = pd.read_csv(\"drive/My Drive/FinalDataProject/Machine/hiphop_machine2.csv\")\n",
        "jazz = pd.read_csv(\"drive/My Drive/FinalDataProject/Machine/jazz_machine2.csv\")\n",
        "pop = pd.read_csv(\"drive/My Drive/FinalDataProject/Machine/pop_machine2.csv\")\n",
        "reggae = pd.read_csv(\"drive/My Drive/FinalDataProject/Machine/reggae_machine2.csv\")\n",
        "rock = pd.read_csv(\"drive/My Drive/FinalDataProject/Machine/rock_machine2.csv\")"
      ],
      "execution_count": null,
      "outputs": []
    },
    {
      "cell_type": "code",
      "metadata": {
        "id": "1COzevfUBQqA",
        "colab_type": "code",
        "colab": {}
      },
      "source": [
        "#combine all genre dfs into one\n",
        "ml_df = pd.concat([blues, classical, country, disco, h_metal, hiphop, jazz, pop, reggae, rock], ignore_index=True)\n",
        "ml_df"
      ],
      "execution_count": null,
      "outputs": []
    },
    {
      "cell_type": "code",
      "metadata": {
        "id": "l6kzT6iEBaCI",
        "colab_type": "code",
        "colab": {}
      },
      "source": [
        "ml_df.to_csv(\"drive/My Drive/FinalDataProject/Machine/numerical_machine2.csv\", index=False)"
      ],
      "execution_count": null,
      "outputs": []
    }
  ]
}