{
 "cells": [
  {
   "cell_type": "code",
   "execution_count": null,
   "metadata": {
    "colab": {},
    "colab_type": "code",
    "id": "kubynOK49K9B"
   },
   "outputs": [],
   "source": [
    "import librosa\n",
    "import IPython.display as ipd\n",
    "import skimage\n",
    "import numpy\n",
    "from skimage import io\n",
    "import matplotlib.pyplot as plt\n",
    "import librosa.display\n",
    "\n",
    "#load audio file into librosa\n",
    "audio_data = 'blues_0_Whole_Lotta’_Love.mp3'\n",
    "x , sr = librosa.load(audio_data)\n",
    "\n",
    "\n",
    "\n",
    "\n",
    "\n",
    "# Split song up into small segments:\n",
    "\n",
    "#settings\n",
    "# hop length = number of samples per time-step in spectrogram\n",
    "#hop_length = 512 \n",
    "\n",
    "# number of time-steps. (Width of spectogram/png)\n",
    "#time_steps = 384\n",
    "\n",
    "# start sample at the beginning\n",
    "#start_sample = 0 \n",
    "\n",
    "#length_samples = time_steps*hop_length\n",
    "#window = x[start_sample:start_sample+length_samples]"
   ]
  },
  {
   "cell_type": "code",
   "execution_count": null,
   "metadata": {
    "colab": {},
    "colab_type": "code",
    "id": "-jO9EH3ogonv"
   },
   "outputs": [],
   "source": [
    "#define scale of png image\n",
    "def scale_minmax(X, min=0.0, max=1.0):\n",
    "    X_std = (X - X.min()) / (X.max() - X.min())\n",
    "    X_scaled = X_std * (max - min) + min\n",
    "    return X_scaled\n",
    "\n",
    "\n"
   ]
  },
  {
   "cell_type": "code",
   "execution_count": null,
   "metadata": {
    "colab": {
     "base_uri": "https://localhost:8080/",
     "height": 284
    },
    "colab_type": "code",
    "id": "SlIxt1_MOsjU",
    "outputId": "a0331875-a41a-4dc6-d8a1-c8d6d4ae8459"
   },
   "outputs": [],
   "source": [
    "#Plot Spectogram\n",
    "X = librosa.stft(x)\n",
    "Xdb = librosa.amplitude_to_db(abs(X))\n",
    "plt.figure(figsize=(14, 5))\n",
    "librosa.display.specshow(Xdb, sr=sr, x_axis='time', y_axis='hz')\n",
    "plt.colorbar()\n",
    "\n",
    "# scale png image to 8 bit\n",
    "img = scale_minmax(Xdb, 0, 255).astype(numpy.uint8)\n",
    "\n",
    "# put x axis at \"0\"\n",
    "img = numpy.flip(img, axis=0) \n",
    "\n",
    " # invert image to black== machine learning is colorblind apparently\n",
    "img = 255-img\n",
    "\n",
    "# save as PNG\n",
    "skimage.io.imsave(\"0_Blues_whole_lotta_love.png\", img)"
   ]
  }
 ],
 "metadata": {
  "colab": {
   "collapsed_sections": [],
   "name": "Untitled0.ipynb",
   "provenance": []
  },
  "kernelspec": {
   "display_name": "Python 3",
   "language": "python",
   "name": "python3"
  },
  "language_info": {
   "codemirror_mode": {
    "name": "ipython",
    "version": 3
   },
   "file_extension": ".py",
   "mimetype": "text/x-python",
   "name": "python",
   "nbconvert_exporter": "python",
   "pygments_lexer": "ipython3",
   "version": "3.7.6"
  }
 },
 "nbformat": 4,
 "nbformat_minor": 1
}
